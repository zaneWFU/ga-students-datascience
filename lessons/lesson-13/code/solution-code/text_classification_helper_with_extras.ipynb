{
 "cells": [
  {
   "cell_type": "code",
   "execution_count": 4,
   "metadata": {
    "collapsed": false
   },
   "outputs": [
    {
     "name": "stdout",
     "output_type": "stream",
     "text": [
      "Requirement already satisfied (use --upgrade to upgrade): numpy in /Users/bilindhajer/anaconda/lib/python2.7/site-packages\r\n"
     ]
    }
   ],
   "source": [
    "!pip install numpy"
   ]
  },
  {
   "cell_type": "code",
   "execution_count": 6,
   "metadata": {
    "collapsed": false
   },
   "outputs": [],
   "source": [
    "# import all dependencies\n",
    "import pandas as pd\n",
    "import numpy as np\n",
    "import json\n",
    "from sklearn.ensemble import RandomForestClassifier\n",
    "from sklearn.feature_extraction.text import TfidfVectorizer, CountVectorizer\n",
    "from sklearn.cross_validation import cross_val_score\n",
    "from scipy.sparse import hstack"
   ]
  },
  {
   "cell_type": "code",
   "execution_count": 42,
   "metadata": {
    "collapsed": false
   },
   "outputs": [
    {
     "name": "stdout",
     "output_type": "stream",
     "text": [
      "True\n",
      "False\n",
      "True\n"
     ]
    }
   ],
   "source": [
    "print \"bilind\".lower() == \"Bilind\".lower()\n",
    "\n",
    "print \"bilind\" in \"BILIND IS COOL\"\n",
    "print \"bilind\" in \"BILIND IS COOL\".lower()"
   ]
  },
  {
   "cell_type": "code",
   "execution_count": 7,
   "metadata": {
    "collapsed": true
   },
   "outputs": [],
   "source": [
    "# put your functions in one cell, call when you need\n",
    "def read_tsv(path):\n",
    "    return pd.read_csv(path, sep='\\t')\n",
    "def get_json_value(col,key):\n",
    "    return json.loads(col).get(key, '')\n",
    "def has_text(text,text_val):\n",
    "#     if( text == None ):\n",
    "#         return 0\n",
    "    \n",
    "#     if 'recipe' in str(text).lower():\n",
    "#         return 1\n",
    "#     else: # np.nan None\n",
    "#         return 0  \n",
    "    try:\n",
    "        if 'recipe' in str(text).lower():\n",
    "            return 1\n",
    "        else: # np.nan None\n",
    "            return 0\n",
    "    except: \n",
    "        return 0\n",
    "    \n",
    "    \n",
    "\n",
    "#def shirt_color(shirt_number): # shirt_numbers = {1,2,3} = {red,blue,green}\n",
    "    "
   ]
  },
  {
   "cell_type": "code",
   "execution_count": 3,
   "metadata": {
    "collapsed": false
   },
   "outputs": [
    {
     "name": "stdout",
     "output_type": "stream",
     "text": [
      "/Users/bilindhajer/Desktop/atl-dat2/lessons/lesson-13/code/solution-code\r\n"
     ]
    }
   ],
   "source": [
    "def check_criteria():\n",
    "    if( 2 >= 2 ): # text -- None\n",
    "        x = 0 #return 0\n",
    "    if( 2 >= 2):\n",
    "        x = 1 #return 1\n",
    "    if( 2 > 1): # np.nan None\n",
    "        x = 3 #return 0\n",
    "    return x\n",
    "!pwd"
   ]
  },
  {
   "cell_type": "code",
   "execution_count": 8,
   "metadata": {
    "collapsed": false
   },
   "outputs": [],
   "source": [
    "path = \"../../assets/dataset/stumbleupon.tsv\"\n",
    "data = read_tsv(path)"
   ]
  },
  {
   "cell_type": "code",
   "execution_count": 9,
   "metadata": {
    "collapsed": false
   },
   "outputs": [
    {
     "data": {
      "text/plain": [
       "url                                object\n",
       "urlid                               int64\n",
       "boilerplate                        object\n",
       "alchemy_category                   object\n",
       "alchemy_category_score             object\n",
       "avglinksize                       float64\n",
       "commonlinkratio_1                 float64\n",
       "commonlinkratio_2                 float64\n",
       "commonlinkratio_3                 float64\n",
       "commonlinkratio_4                 float64\n",
       "compression_ratio                 float64\n",
       "embed_ratio                       float64\n",
       "framebased                          int64\n",
       "frameTagRatio                     float64\n",
       "hasDomainLink                       int64\n",
       "html_ratio                        float64\n",
       "image_ratio                       float64\n",
       "is_news                            object\n",
       "lengthyLinkDomain                   int64\n",
       "linkwordscore                       int64\n",
       "news_front_page                    object\n",
       "non_markup_alphanum_characters      int64\n",
       "numberOfLinks                       int64\n",
       "numwords_in_url                     int64\n",
       "parametrizedLinkRatio             float64\n",
       "spelling_errors_ratio             float64\n",
       "label                               int64\n",
       "dtype: object"
      ]
     },
     "execution_count": 9,
     "metadata": {},
     "output_type": "execute_result"
    }
   ],
   "source": [
    "data.dtypes"
   ]
  },
  {
   "cell_type": "code",
   "execution_count": null,
   "metadata": {
    "collapsed": true
   },
   "outputs": [],
   "source": []
  },
  {
   "cell_type": "code",
   "execution_count": 10,
   "metadata": {
    "collapsed": false
   },
   "outputs": [
    {
     "data": {
      "text/plain": [
       "0    0\n",
       "1    1\n",
       "2    1\n",
       "3    1\n",
       "4    0\n",
       "Name: label, dtype: int64"
      ]
     },
     "execution_count": 10,
     "metadata": {},
     "output_type": "execute_result"
    }
   ],
   "source": [
    "data.label.head(5)"
   ]
  },
  {
   "cell_type": "code",
   "execution_count": null,
   "metadata": {
    "collapsed": false
   },
   "outputs": [],
   "source": [
    "# get the title text from the JsonObject \n",
    "# note the JsonObject is stored in column boilerplate\n",
    "# hint: look at function get_json_value above, it takes two inputs, \n",
    "# a dataframe column, and a key value to search the Json Dictionary,\n",
    "# call the new dataframe column \"title\" \n",
    "# hint: first input for get_json_value is a column, \n",
    "# and second input 'title'"
   ]
  },
  {
   "cell_type": "code",
   "execution_count": null,
   "metadata": {
    "collapsed": true
   },
   "outputs": [],
   "source": [
    "data['todays_year'] = 2016"
   ]
  },
  {
   "cell_type": "code",
   "execution_count": 14,
   "metadata": {
    "collapsed": true
   },
   "outputs": [],
   "source": [
    "data['title'] = data.boilerplate.apply(\n",
    "    lambda row: get_json_value(row,\"title\")\n",
    ").fillna('')"
   ]
  },
  {
   "cell_type": "code",
   "execution_count": null,
   "metadata": {
    "collapsed": true
   },
   "outputs": [],
   "source": [
    "data['title_length'] = data.title.apply(lambda x: len(x) )\n",
    "def get_title_length(row):\n",
    "    len(row)\n",
    "data['title_length'] = data.title.apply(get_title_length)\n"
   ]
  },
  {
   "cell_type": "code",
   "execution_count": 15,
   "metadata": {
    "collapsed": true
   },
   "outputs": [],
   "source": [
    "data['title'] = data.boilerplate.map(\n",
    "    lambda row: get_json_value(row,\"title\")\n",
    ").fillna('')"
   ]
  },
  {
   "cell_type": "code",
   "execution_count": 19,
   "metadata": {
    "collapsed": false
   },
   "outputs": [
    {
     "name": "stdout",
     "output_type": "stream",
     "text": [
      "9.09090909091\n"
     ]
    }
   ],
   "source": [
    "def get_even_numbers(list1):\n",
    "    cardinality = len(list1)\n",
    "    even_nums = filter(lambda x: x % 2 == 0, list1)\n",
    "    probability = (float(len(even_nums))/cardinality)*100\n",
    "    return probability\n",
    "my_list = [1,2,3,55,55,55,55,55,55,55,55]\n",
    "print get_even_numbers(my_list)"
   ]
  },
  {
   "cell_type": "code",
   "execution_count": null,
   "metadata": {
    "collapsed": true
   },
   "outputs": [],
   "source": [
    "def get_even_numbers(list1):\n",
    "    cardinality = len(list1)\n",
    "    even_nums = []\n",
    "    for( x in list1 ):\n",
    "        if( x % 2 == 0):\n",
    "            even_nums.append(x)\n",
    "    probability = (float(len(even_nums))/cardinality)*100\n",
    "    return probability\n",
    "my_list = [1,2,3,55,55,55,55,55,55,55,55]\n",
    "print get_even_numbers(my_list)"
   ]
  },
  {
   "cell_type": "code",
   "execution_count": 26,
   "metadata": {
    "collapsed": false
   },
   "outputs": [
    {
     "name": "stdout",
     "output_type": "stream",
     "text": [
      "33.3333333333\n"
     ]
    }
   ],
   "source": [
    "def map_numbers(num):\n",
    "    if( num % 2 == 0):\n",
    "        return 1\n",
    "    return 0\n",
    "\n",
    "def get_even_numbers(list1):\n",
    "    cardinality = len(list1)\n",
    "    even_nums = sum(map(lambda x: map_numbers(x), list1))\n",
    "    #print( type(even_nums) )\n",
    "    #print( even_nums )\n",
    "    probability = (float(even_nums)/cardinality)*100\n",
    "    return probability\n",
    "\n",
    "my_list = [1,2,3]\n",
    "print get_even_numbers(my_list)"
   ]
  },
  {
   "cell_type": "code",
   "execution_count": null,
   "metadata": {
    "collapsed": true
   },
   "outputs": [],
   "source": [
    "list2 = [1,2,3]\n",
    "sum()"
   ]
  },
  {
   "cell_type": "code",
   "execution_count": 28,
   "metadata": {
    "collapsed": false
   },
   "outputs": [
    {
     "name": "stdout",
     "output_type": "stream",
     "text": [
      "(3778, 28)\n"
     ]
    }
   ],
   "source": [
    "# give me only the rows in the dataframe with label value of 1\n",
    "print data[ (data.label == 1) & (data.linkwordscore >= 1)  ].shape"
   ]
  },
  {
   "cell_type": "code",
   "execution_count": 38,
   "metadata": {
    "collapsed": false
   },
   "outputs": [
    {
     "data": {
      "text/plain": [
       "(7395, 28)"
      ]
     },
     "execution_count": 38,
     "metadata": {},
     "output_type": "execute_result"
    }
   ],
   "source": [
    "data[ data.label.notnull() ].shape\n",
    "data.shape"
   ]
  },
  {
   "cell_type": "code",
   "execution_count": 13,
   "metadata": {
    "collapsed": false
   },
   "outputs": [
    {
     "data": {
      "text/plain": [
       "0    {\"title\":\"IBM Sees Holographic Calls Air Breat...\n",
       "1    {\"title\":\"The Fully Electronic Futuristic Star...\n",
       "2    {\"title\":\"Fruits that Fight the Flu fruits tha...\n",
       "Name: boilerplate, dtype: object"
      ]
     },
     "execution_count": 13,
     "metadata": {},
     "output_type": "execute_result"
    }
   ],
   "source": [
    "data.boilerplate.head(3)"
   ]
  },
  {
   "cell_type": "code",
   "execution_count": 12,
   "metadata": {
    "collapsed": false
   },
   "outputs": [
    {
     "data": {
      "text/plain": [
       "0    IBM Sees Holographic Calls Air Breathing Batte...\n",
       "1    The Fully Electronic Futuristic Starting Gun T...\n",
       "2    Fruits that Fight the Flu fruits that fight th...\n",
       "Name: title, dtype: object"
      ]
     },
     "execution_count": 12,
     "metadata": {},
     "output_type": "execute_result"
    }
   ],
   "source": [
    "data.title.head(3)"
   ]
  },
  {
   "cell_type": "code",
   "execution_count": 44,
   "metadata": {
    "collapsed": false
   },
   "outputs": [],
   "source": [
    "# get the body text from the JsonObject\n",
    "# note the JsonObject is stored in column boilerplate\n",
    "# hint: look at function get_json_value above, it takes two inputs, \n",
    "# a dataframe column, and a key value to search the Json Dictionary,\n",
    "# call the new dataframe column \"body\" \n",
    "# hint: first input for get_json_value is a column, \n",
    "# and second input 'body'\n",
    "\n",
    "data['body'] = data.boilerplate.apply(\n",
    "    lambda x: get_json_value(x,'body')\n",
    ")"
   ]
  },
  {
   "cell_type": "code",
   "execution_count": 45,
   "metadata": {
    "collapsed": false
   },
   "outputs": [],
   "source": [
    "# Now that you have two new columns in your dataframe, one which contains\n",
    "# only the title text of the website, and the other only body text\n",
    "# lets see if having the word 'recipe' in the title contributed to higher\n",
    "# evergreen websites?\n",
    "\n",
    "# hint, create new column called 'has_recipe', use function has_text,\n",
    "# which has two inputs, a column, \n",
    "# and the specific word you are looking for\n",
    "# no more hints!\n",
    "\n",
    "data['has_recipe'] = data.title.apply(\n",
    "    lambda text: has_text(text,\"recipe\")\n",
    ")"
   ]
  },
  {
   "cell_type": "code",
   "execution_count": null,
   "metadata": {
    "collapsed": false
   },
   "outputs": [],
   "source": [
    "# how many records had the word recipe in the title?\n",
    "print data[ data.has_recipe == 1 ].shape"
   ]
  },
  {
   "cell_type": "code",
   "execution_count": 47,
   "metadata": {
    "collapsed": false
   },
   "outputs": [
    {
     "data": {
      "text/plain": [
       "has_recipe\n",
       "0    6469\n",
       "1     926\n",
       "dtype: int64"
      ]
     },
     "execution_count": 47,
     "metadata": {},
     "output_type": "execute_result"
    }
   ],
   "source": [
    "data.groupby(\"has_recipe\").apply( lambda x: len(x) )"
   ]
  },
  {
   "cell_type": "code",
   "execution_count": 48,
   "metadata": {
    "collapsed": false
   },
   "outputs": [
    {
     "name": "stdout",
     "output_type": "stream",
     "text": [
      "(6469, 30)\n"
     ]
    }
   ],
   "source": [
    "# how many records did not have the word recipe in the title?\n",
    "print data[ data.has_recipe == 0 ].shape"
   ]
  },
  {
   "cell_type": "code",
   "execution_count": null,
   "metadata": {
    "collapsed": true
   },
   "outputs": [],
   "source": [
    "# Interpret Results Above"
   ]
  },
  {
   "cell_type": "code",
   "execution_count": 49,
   "metadata": {
    "collapsed": true
   },
   "outputs": [],
   "source": [
    "# remove all null values for title column, by replacing NaN with empty ''\n",
    "# maintain the 'title' column during the transformation\n",
    "def clean_value(row):\n",
    "    if( row == None ):\n",
    "        return ''\n",
    "    return row\n",
    "\n",
    "data['title'] = data.title.fillna('')\n",
    "data['title'] = data.title.apply(clean_value)\n"
   ]
  },
  {
   "cell_type": "code",
   "execution_count": 50,
   "metadata": {
    "collapsed": false
   },
   "outputs": [],
   "source": [
    "# lets make every word in the title a feature, \n",
    "# maybe other words besides recipes contributed to \n",
    "# higher evergreen websites?\n",
    "\n",
    "vectorizer = CountVectorizer(\n",
    "                max_features = 1000, # max number of words to consider as features\n",
    "                ngram_range=(1, 2), \n",
    "                stop_words='english', # stop when you see word english\n",
    "                binary=True # each word will be a binary dummy categorical var\n",
    "            )"
   ]
  },
  {
   "cell_type": "code",
   "execution_count": 51,
   "metadata": {
    "collapsed": false
   },
   "outputs": [
    {
     "data": {
      "text/plain": [
       "CountVectorizer(analyzer=u'word', binary=True, decode_error=u'strict',\n",
       "        dtype=<type 'numpy.int64'>, encoding=u'utf-8', input=u'content',\n",
       "        lowercase=True, max_df=1.0, max_features=1000, min_df=1,\n",
       "        ngram_range=(1, 2), preprocessor=None, stop_words='english',\n",
       "        strip_accents=None, token_pattern=u'(?u)\\\\b\\\\w\\\\w+\\\\b',\n",
       "        tokenizer=None, vocabulary=None)"
      ]
     },
     "execution_count": 51,
     "metadata": {},
     "output_type": "execute_result"
    }
   ],
   "source": [
    "# Use `fit` to learn the vocabulary of the titles\n",
    "vectorizer.fit(data.title)"
   ]
  },
  {
   "cell_type": "code",
   "execution_count": 57,
   "metadata": {
    "collapsed": false
   },
   "outputs": [
    {
     "data": {
      "text/plain": [
       "<7395x1 sparse matrix of type '<type 'numpy.int64'>'\n",
       "\twith 172 stored elements in Compressed Sparse Row format>"
      ]
     },
     "execution_count": 57,
     "metadata": {},
     "output_type": "execute_result"
    }
   ],
   "source": [
    "# Use `tranform` to generate the sample X word matrix - one column per feature (word or n-grams)\n",
    "x_text_features = vectorizer.transform(data.title)\n",
    "type(x_text_features)\n",
    "x_text_features[:,1]"
   ]
  },
  {
   "cell_type": "code",
   "execution_count": 58,
   "metadata": {
    "collapsed": true
   },
   "outputs": [],
   "source": [
    "labels = data.label"
   ]
  },
  {
   "cell_type": "code",
   "execution_count": 60,
   "metadata": {
    "collapsed": true
   },
   "outputs": [],
   "source": [
    "model = RandomForestClassifier(n_estimators = 20)\n",
    "# n_estimators = number of decision trees\n",
    "# other parameters such as max_depth, best_split, etc available"
   ]
  },
  {
   "cell_type": "code",
   "execution_count": 61,
   "metadata": {
    "collapsed": false
   },
   "outputs": [],
   "source": [
    "scores = cross_val_score(\n",
    "            model,  # your model\n",
    "            x_text_features,  # your features in vector form\n",
    "            labels,  # your labels (response/output/predictor)\n",
    "            scoring='roc_auc' # what metric do you want returned?\n",
    "        )"
   ]
  },
  {
   "cell_type": "code",
   "execution_count": 62,
   "metadata": {
    "collapsed": false
   },
   "outputs": [
    {
     "name": "stdout",
     "output_type": "stream",
     "text": [
      "CV AUC [ 0.78811282  0.80473155  0.80247571], Average AUC 0.798440029949\n"
     ]
    }
   ],
   "source": [
    "print('CV AUC {}, Average AUC {}'.format(scores, scores.mean()))"
   ]
  },
  {
   "cell_type": "code",
   "execution_count": 63,
   "metadata": {
    "collapsed": false
   },
   "outputs": [],
   "source": [
    "# Identify the features you want from the original dataset\n",
    "other_features_columns = ['html_ratio', 'image_ratio']\n",
    "other_features = data[other_features_columns]"
   ]
  },
  {
   "cell_type": "code",
   "execution_count": 64,
   "metadata": {
    "collapsed": false
   },
   "outputs": [
    {
     "name": "stdout",
     "output_type": "stream",
     "text": [
      "CV AUC [ 0.78663803  0.80253195  0.7904901 ], Average AUC 0.793220027302\n"
     ]
    }
   ],
   "source": [
    "# Stack them horizontally together\n",
    "# This takes all of the word/n-gram columns and appends on two more columns for `html_ratio` and `image_ratio`\n",
    "features = hstack((x_text_features, other_features)).toarray()\n",
    "\n",
    "scores = cross_val_score(model, features, labels, scoring='roc_auc')\n",
    "print('CV AUC {}, Average AUC {}'.format(scores, scores.mean()))"
   ]
  },
  {
   "cell_type": "code",
   "execution_count": 65,
   "metadata": {
    "collapsed": false
   },
   "outputs": [
    {
     "data": {
      "text/plain": [
       "RandomForestClassifier(bootstrap=True, class_weight=None, criterion='gini',\n",
       "            max_depth=None, max_features='auto', max_leaf_nodes=None,\n",
       "            min_samples_leaf=1, min_samples_split=2,\n",
       "            min_weight_fraction_leaf=0.0, n_estimators=20, n_jobs=1,\n",
       "            oob_score=False, random_state=None, verbose=0,\n",
       "            warm_start=False)"
      ]
     },
     "execution_count": 65,
     "metadata": {},
     "output_type": "execute_result"
    }
   ],
   "source": [
    "# What features of these are most important, lets actually fit the model!\n",
    "model.fit(features, labels)"
   ]
  },
  {
   "cell_type": "code",
   "execution_count": 66,
   "metadata": {
    "collapsed": true
   },
   "outputs": [],
   "source": [
    "all_feature_names = vectorizer.get_feature_names() + other_features_columns"
   ]
  },
  {
   "cell_type": "code",
   "execution_count": 67,
   "metadata": {
    "collapsed": true
   },
   "outputs": [],
   "source": [
    "feature_importances = pd.DataFrame(\n",
    "    {'Features' : all_feature_names, \n",
    "     'Importance Score': model.feature_importances_\n",
    "    }\n",
    ")\n",
    "\n",
    "# this makes a nice table for all features, \n",
    "# and there corresponding importance"
   ]
  },
  {
   "cell_type": "code",
   "execution_count": 68,
   "metadata": {
    "collapsed": false
   },
   "outputs": [
    {
     "data": {
      "text/html": [
       "<div>\n",
       "<table border=\"1\" class=\"dataframe\">\n",
       "  <thead>\n",
       "    <tr style=\"text-align: right;\">\n",
       "      <th></th>\n",
       "      <th>Features</th>\n",
       "      <th>Importance Score</th>\n",
       "    </tr>\n",
       "  </thead>\n",
       "  <tbody>\n",
       "    <tr>\n",
       "      <th>1000</th>\n",
       "      <td>html_ratio</td>\n",
       "      <td>0.151013</td>\n",
       "    </tr>\n",
       "    <tr>\n",
       "      <th>1001</th>\n",
       "      <td>image_ratio</td>\n",
       "      <td>0.095680</td>\n",
       "    </tr>\n",
       "    <tr>\n",
       "      <th>712</th>\n",
       "      <td>recipe</td>\n",
       "      <td>0.041292</td>\n",
       "    </tr>\n",
       "    <tr>\n",
       "      <th>721</th>\n",
       "      <td>recipes</td>\n",
       "      <td>0.018902</td>\n",
       "    </tr>\n",
       "    <tr>\n",
       "      <th>190</th>\n",
       "      <td>chocolate</td>\n",
       "      <td>0.012034</td>\n",
       "    </tr>\n",
       "    <tr>\n",
       "      <th>180</th>\n",
       "      <td>chicken</td>\n",
       "      <td>0.010672</td>\n",
       "    </tr>\n",
       "    <tr>\n",
       "      <th>150</th>\n",
       "      <td>cake</td>\n",
       "      <td>0.009173</td>\n",
       "    </tr>\n",
       "    <tr>\n",
       "      <th>170</th>\n",
       "      <td>cheese</td>\n",
       "      <td>0.008927</td>\n",
       "    </tr>\n",
       "    <tr>\n",
       "      <th>342</th>\n",
       "      <td>fashion</td>\n",
       "      <td>0.008866</td>\n",
       "    </tr>\n",
       "    <tr>\n",
       "      <th>496</th>\n",
       "      <td>kitchen</td>\n",
       "      <td>0.008793</td>\n",
       "    </tr>\n",
       "  </tbody>\n",
       "</table>\n",
       "</div>"
      ],
      "text/plain": [
       "         Features  Importance Score\n",
       "1000   html_ratio          0.151013\n",
       "1001  image_ratio          0.095680\n",
       "712        recipe          0.041292\n",
       "721       recipes          0.018902\n",
       "190     chocolate          0.012034\n",
       "180       chicken          0.010672\n",
       "150          cake          0.009173\n",
       "170        cheese          0.008927\n",
       "342       fashion          0.008866\n",
       "496       kitchen          0.008793"
      ]
     },
     "execution_count": 68,
     "metadata": {},
     "output_type": "execute_result"
    }
   ],
   "source": [
    "feature_importances.sort_values(\n",
    "   'Importance Score', \n",
    "    ascending=False\n",
    ").head(10) # sort_values defined for dataframe, default is ascending"
   ]
  },
  {
   "cell_type": "code",
   "execution_count": null,
   "metadata": {
    "collapsed": true
   },
   "outputs": [],
   "source": [
    "# Your model was built from features coming from the vocabulary\n",
    "# of the title vs. the label. \n",
    "# Repeat the above process but with your features\n",
    "# coming from the 'body' column.\n",
    "# You must fit vocab in your body column, along with creating a vector with\n",
    "# all possible features in n columns (dummy variables)\n",
    "# hint: from vectorizor.transform(column_with_text)"
   ]
  }
 ],
 "metadata": {
  "kernelspec": {
   "display_name": "Python 2",
   "language": "python",
   "name": "python2"
  },
  "language_info": {
   "codemirror_mode": {
    "name": "ipython",
    "version": 2
   },
   "file_extension": ".py",
   "mimetype": "text/x-python",
   "name": "python",
   "nbconvert_exporter": "python",
   "pygments_lexer": "ipython2",
   "version": "2.7.11"
  }
 },
 "nbformat": 4,
 "nbformat_minor": 0
}
