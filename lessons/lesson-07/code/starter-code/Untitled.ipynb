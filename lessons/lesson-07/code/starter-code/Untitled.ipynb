{
 "cells": [
  {
   "cell_type": "code",
   "execution_count": 1,
   "metadata": {
    "collapsed": false
   },
   "outputs": [
    {
     "name": "stderr",
     "output_type": "stream",
     "text": [
      "C:\\Users\\Zane_Harris\\AppData\\Local\\Continuum\\Anaconda2\\lib\\site-packages\\ipykernel\\__main__.py:1: ScrapyDeprecationWarning: Module `scrapy.spider` is deprecated, use `scrapy.spiders` instead\n",
      "  if __name__ == '__main__':\n"
     ]
    },
    {
     "ename": "ImportError",
     "evalue": "No module named glassdoor_scraper.items",
     "output_type": "error",
     "traceback": [
      "\u001b[1;31m---------------------------------------------------------------------------\u001b[0m",
      "\u001b[1;31mImportError\u001b[0m                               Traceback (most recent call last)",
      "\u001b[1;32m<ipython-input-1-c1d8fd0b9ab6>\u001b[0m in \u001b[0;36m<module>\u001b[1;34m()\u001b[0m\n\u001b[0;32m      1\u001b[0m \u001b[1;32mfrom\u001b[0m \u001b[0mscrapy\u001b[0m\u001b[1;33m.\u001b[0m\u001b[0mspider\u001b[0m \u001b[1;32mimport\u001b[0m \u001b[0mSpider\u001b[0m\u001b[1;33m\u001b[0m\u001b[0m\n\u001b[0;32m      2\u001b[0m \u001b[1;32mfrom\u001b[0m \u001b[0mscrapy\u001b[0m\u001b[1;33m.\u001b[0m\u001b[0mselector\u001b[0m \u001b[1;32mimport\u001b[0m \u001b[0mSelector\u001b[0m\u001b[1;33m\u001b[0m\u001b[0m\n\u001b[1;32m----> 3\u001b[1;33m \u001b[1;32mfrom\u001b[0m \u001b[0mglassdoor_scraper\u001b[0m\u001b[1;33m.\u001b[0m\u001b[0mitems\u001b[0m \u001b[1;32mimport\u001b[0m \u001b[0mGlassdoorItem\u001b[0m\u001b[1;33m\u001b[0m\u001b[0m\n\u001b[0m\u001b[0;32m      4\u001b[0m \u001b[1;33m\u001b[0m\u001b[0m\n\u001b[0;32m      5\u001b[0m \u001b[1;32mclass\u001b[0m \u001b[0mGlassdoorSpider\u001b[0m\u001b[1;33m(\u001b[0m\u001b[0mSpider\u001b[0m\u001b[1;33m)\u001b[0m\u001b[1;33m:\u001b[0m\u001b[1;33m\u001b[0m\u001b[0m\n",
      "\u001b[1;31mImportError\u001b[0m: No module named glassdoor_scraper.items"
     ]
    }
   ],
   "source": [
    "from scrapy.spider import Spider\n",
    "from scrapy.selector import Selector\n",
    "from glassdoor_scraper.items import GlassdoorItem\n",
    "\n",
    "class GlassdoorSpider(Spider):\n",
    "  name = \"glassdoor\"\n",
    "  allowed_domains = [\"glassdoor.com\"]\n",
    "  start_urls = [\n",
    "    \"http://www.glassdoor.com/Salaries/data-scientist-salary-SRCH_KO0,14.htm\",\n",
    "    \"http://www.glassdoor.com/Salaries/data-engineer-salary-SRCH_KO0,13.htm\"\n",
    "    #\"http://www.glassdoor.com/Salaries/software-developer-salary-SRCH_KO0,18.htm\",\n",
    "    #\"http://www.glassdoor.com/Salaries/software-engineer-salary-SRCH_KO0,17.htm\",\n",
    "    #\"http://www.glassdoor.com/Salaries/programmer-salary-SRCH_KO0,10.htm\"\n",
    "  ]\n",
    "\n",
    "  def parse(self, response):\n",
    "    sel = Selector(response)\n",
    "    sites = sel.xpath('//ul/li')\n",
    "    items = []\n",
    "\n",
    "    for site in sites:\n",
    "      item = GlassdoorItem()\n",
    "      item['title'] = site.xpath('a/text()').extract()\n",
    "      item['link'] = site.xpath('a/@href').extract()\n",
    "      item['desc'] = site.xpath('text()').extract()\n",
    "      items.append(item)\n",
    "\n",
    "    return items"
   ]
  },
  {
   "cell_type": "code",
   "execution_count": null,
   "metadata": {
    "collapsed": true
   },
   "outputs": [],
   "source": []
  }
 ],
 "metadata": {
  "kernelspec": {
   "display_name": "Python 2",
   "language": "python",
   "name": "python2"
  },
  "language_info": {
   "codemirror_mode": {
    "name": "ipython",
    "version": 2
   },
   "file_extension": ".py",
   "mimetype": "text/x-python",
   "name": "python",
   "nbconvert_exporter": "python",
   "pygments_lexer": "ipython2",
   "version": "2.7.11"
  }
 },
 "nbformat": 4,
 "nbformat_minor": 0
}
