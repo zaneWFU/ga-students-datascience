{
 "cells": [
  {
   "cell_type": "markdown",
   "metadata": {},
   "source": [
    "# Project 4\n",
    "\n",
    "In this project, you will summarize and present your analysis from Projects 1-3."
   ]
  },
  {
   "cell_type": "markdown",
   "metadata": {},
   "source": [
    "### Intro: Write a problem Statement/ Specific Aim for this project"
   ]
  },
  {
   "cell_type": "markdown",
   "metadata": {},
   "source": [
    "Answer: Using past admissions data from UCLA I aim to understand what impact that GPA, GRE, and Prestige of undergraduate school have on the likelihood an applicant will be admitted to UCLA for graduate school."
   ]
  },
  {
   "cell_type": "markdown",
   "metadata": {},
   "source": [
    "### Dataset:  Write up a description of your data and any cleaning that was completed"
   ]
  },
  {
   "cell_type": "markdown",
   "metadata": {},
   "source": [
    "Answer: NaN values were dropped from the dataset using the drop function in pandas. The data skew was analyzed but no normalization was required. Prestige was put into bins using dummy variables."
   ]
  },
  {
   "cell_type": "markdown",
   "metadata": {
    "collapsed": true
   },
   "source": [
    "### Demo: Provide a table that explains the data by admission status"
   ]
  },
  {
   "cell_type": "markdown",
   "metadata": {},
   "source": [
    "Mean (STD) or counts by admission status for each variable \n",
    "\n",
    "| Not Admitted | Admitted\n",
    "---| ---|---\n",
    "GPA | mean(std)  | mean(std)\n",
    "GRE |mean(std) | mean(std)\n",
    "Prestige 1 | frequency (%) | frequency (%)\n",
    "Prestige 2 | frequency (%) | frequency (%)\n",
    "Prestige 3 |frequency (%) | frequency (%)\n",
    "Prestige 4 |frequency (%) | frequency (%)"
   ]
  },
  {
   "cell_type": "code",
   "execution_count": 48,
   "metadata": {
    "collapsed": false
   },
   "outputs": [
    {
     "name": "stdout",
     "output_type": "stream",
     "text": [
      "   prestige_1.0  prestige_2.0  prestige_3.0  prestige_4.0\n",
      "0             0             0             1             0\n",
      "1             0             0             1             0\n",
      "2             1             0             0             0\n",
      "3             0             0             0             1\n",
      "4             0             0             0             1\n",
      "prestige          1          2          3          4\n",
      "count      2.000000   2.000000   2.000000   2.000000\n",
      "mean      30.500000  74.000000  60.500000  33.500000\n",
      "std        3.535534  29.698485  45.961941  30.405592\n",
      "min       28.000000  53.000000  28.000000  12.000000\n",
      "25%       29.250000  63.500000  44.250000  22.750000\n",
      "50%       30.500000  74.000000  60.500000  33.500000\n",
      "75%       31.750000  84.500000  76.750000  44.250000\n",
      "max       33.000000  95.000000  93.000000  55.000000\n",
      "gre         220       300       340       360       380       400       420  \\\n",
      "count  2.000000  2.000000  2.000000  2.000000  2.000000  2.000000  2.000000   \n",
      "mean   0.500000  1.500000  2.000000  2.000000  4.000000  5.500000  3.500000   \n",
      "std    0.707107  0.707107  1.414214  2.828427  5.656854  4.949747  4.949747   \n",
      "min    0.000000  1.000000  1.000000  0.000000  0.000000  2.000000  0.000000   \n",
      "25%    0.250000  1.250000  1.500000  1.000000  2.000000  3.750000  1.750000   \n",
      "50%    0.500000  1.500000  2.000000  2.000000  4.000000  5.500000  3.500000   \n",
      "75%    0.750000  1.750000  2.500000  3.000000  6.000000  7.250000  5.250000   \n",
      "max    1.000000  2.000000  3.000000  4.000000  8.000000  9.000000  7.000000   \n",
      "\n",
      "gre         440       460        480    ...           620        640  \\\n",
      "count  2.000000  2.000000   2.000000    ...      2.000000   2.000000   \n",
      "mean   5.000000  6.500000   8.000000    ...     15.000000  10.500000   \n",
      "std    4.242641  3.535534   2.828427    ...      4.242641   7.778175   \n",
      "min    2.000000  4.000000   6.000000    ...     12.000000   5.000000   \n",
      "25%    3.500000  5.250000   7.000000    ...     13.500000   7.750000   \n",
      "50%    5.000000  6.500000   8.000000    ...     15.000000  10.500000   \n",
      "75%    6.500000  7.750000   9.000000    ...     16.500000  13.250000   \n",
      "max    8.000000  9.000000  10.000000    ...     18.000000  16.000000   \n",
      "\n",
      "gre          660        680        700       720      740      760      780  \\\n",
      "count   2.000000   2.000000   2.000000  2.000000  2.00000  2.00000  2.00000   \n",
      "mean   11.500000  10.000000  11.000000  5.500000  5.50000  2.50000  2.50000   \n",
      "std     0.707107   1.414214   8.485281  3.535534  2.12132  2.12132  2.12132   \n",
      "min    11.000000   9.000000   5.000000  3.000000  4.00000  1.00000  1.00000   \n",
      "25%    11.250000   9.500000   8.000000  4.250000  4.75000  1.75000  1.75000   \n",
      "50%    11.500000  10.000000  11.000000  5.500000  5.50000  2.50000  2.50000   \n",
      "75%    11.750000  10.500000  14.000000  6.750000  6.25000  3.25000  3.25000   \n",
      "max    12.000000  11.000000  17.000000  8.000000  7.00000  4.00000  4.00000   \n",
      "\n",
      "gre         800  \n",
      "count   2.00000  \n",
      "mean   12.50000  \n",
      "std     2.12132  \n",
      "min    11.00000  \n",
      "25%    11.75000  \n",
      "50%    12.50000  \n",
      "75%    13.25000  \n",
      "max    14.00000  \n",
      "\n",
      "[8 rows x 26 columns]\n"
     ]
    }
   ],
   "source": [
    "%matplotlib inline\n",
    "import matplotlib.pyplot as plt\n",
    "import pandas as pd\n",
    "import statsmodels.api as sm\n",
    "import pylab as pl\n",
    "import numpy as np\n",
    "\n",
    "df_raw = pd.read_csv(\"../assets/admissions.csv\")\n",
    "df = df_raw.dropna()\n",
    "dummy_ranks = pd.get_dummies(df['prestige'], prefix='prestige')\n",
    "print dummy_ranks.head()\n",
    "cols_to_keep = ['admit', 'gre', 'gpa']\n",
    "handCalc = df[cols_to_keep].join(dummy_ranks.ix[:, 'prestige_1':])\n",
    "print pd.crosstab(df['admit'], df['prestige'], rownames=['admit']).describe()\n",
    "print pd.crosstab(df['admit'], df['gre'], rownames=['admit']).describe()"
   ]
  },
  {
   "cell_type": "code",
   "execution_count": null,
   "metadata": {
    "collapsed": true
   },
   "outputs": [],
   "source": []
  },
  {
   "cell_type": "markdown",
   "metadata": {},
   "source": [
    "### Methods: Write up the methods used in your analysis"
   ]
  },
  {
   "cell_type": "markdown",
   "metadata": {},
   "source": [
    "Answer: Logistic Regression using admit as the target variable (0/1, not admitted/admitted) was the primary method for prediction used. This was facilitated by statsmodel in Python. The correlation function was used to check for collinearity and histogram / plotting functions were used to better understand the distributions of the data."
   ]
  },
  {
   "cell_type": "markdown",
   "metadata": {},
   "source": [
    "### Results: Write up your results"
   ]
  },
  {
   "cell_type": "markdown",
   "metadata": {},
   "source": [
    "Answer: Results of logistic regression and visualization via plot show gre, gpa, and prestige do indeed affect admissions likelihood. The likelihood of admission increases as gre and gpa increase various levels of prestige cause much different results with admission, from the highest to the least prestigious school there is a major shift in likelihood towards those who went to higher prestige schools. "
   ]
  },
  {
   "cell_type": "markdown",
   "metadata": {},
   "source": [
    "### Visuals: Provide a table or visualization of these results"
   ]
  },
  {
   "cell_type": "markdown",
   "metadata": {},
   "source": [
    "<img src='placeholder.png' height= 25% width= 25%>"
   ]
  },
  {
   "cell_type": "markdown",
   "metadata": {},
   "source": [
    "<img src='placeholder.png' height= 25% width= 25%>"
   ]
  },
  {
   "cell_type": "code",
   "execution_count": 62,
   "metadata": {
    "collapsed": false
   },
   "outputs": [
    {
     "name": "stdout",
     "output_type": "stream",
     "text": [
      "Optimization terminated successfully.\n",
      "         Current function value: 0.575009\n",
      "         Iterations 6\n"
     ]
    },
    {
     "name": "stderr",
     "output_type": "stream",
     "text": [
      "C:\\Users\\Zane_Harris\\AppData\\Local\\Continuum\\Anaconda2\\lib\\site-packages\\ipykernel\\__main__.py:1: SettingWithCopyWarning: \n",
      "A value is trying to be set on a copy of a slice from a DataFrame.\n",
      "Try using .loc[row_indexer,col_indexer] = value instead\n",
      "\n",
      "See the caveats in the documentation: http://pandas.pydata.org/pandas-docs/stable/indexing.html#indexing-view-versus-copy\n",
      "  if __name__ == '__main__':\n"
     ]
    },
    {
     "data": {
      "image/png": "[encoded data removed]",
      "text/plain": [
       "<matplotlib.figure.Figure at 0xa253c88>"
      ]
     },
     "metadata": {},
     "output_type": "display_data"
    },
    {
     "data": {
      "image/png": "[encoded data removed]",
      "text/plain": [
       "<matplotlib.figure.Figure at 0xadebf60>"
      ]
     },
     "metadata": {},
     "output_type": "display_data"
    }
   ],
   "source": [
    "df['intercept'] = 1.0\n",
    "train_cols = df.columns[1:]\n",
    "logit = sm.Logit(df['admit'], df[train_cols])\n",
    "result = logit.fit()\n",
    "def cartesian(arrays, out=None):\n",
    "    arrays = [np.asarray(x) for x in arrays]\n",
    "    dtype = arrays[0].dtype\n",
    "\n",
    "    n = np.prod([x.size for x in arrays])\n",
    "    if out is None:\n",
    "        out = np.zeros([n, len(arrays)], dtype=dtype)\n",
    "\n",
    "    m = n / arrays[0].size\n",
    "    out[:,0] = np.repeat(arrays[0], m)\n",
    "    if arrays[1:]:\n",
    "        cartesian(arrays[1:], out=out[0:m,1:])\n",
    "        for j in xrange(1, arrays[0].size):\n",
    "            out[j*m:(j+1)*m,1:] = out[0:m,1:]\n",
    "    return out\n",
    "\n",
    "gres = np.linspace(df['gre'].min(), df['gre'].max(), 10)\n",
    "gpas = np.linspace(df['gpa'].min(), df['gpa'].max(), 10)\n",
    "combos = pd.DataFrame(cartesian([gres, gpas, [1, 2, 3, 4], [1.]]))\n",
    "combos.columns = ['gre', 'gpa', 'prestige', 'intercept']\n",
    "dummy_ranks = pd.get_dummies(combos['prestige'], prefix='prestige')\n",
    "dummy_ranks.columns = ['prestige_1.0', 'prestige_2.0', 'prestige_3.0', 'prestige_4.0']\n",
    "\n",
    "cols_to_keep = ['gre', 'gpa', 'prestige', 'intercept']\n",
    "combos = combos[cols_to_keep].join(dummy_ranks.ix[:, 'prestige_2.0':])\n",
    "combos['admit_pred'] = result.predict(combos[train_cols])\n",
    "\n",
    "def isolate_and_plot(variable):\n",
    "    \n",
    "    grouped = pd.pivot_table(combos, values=['admit_pred'], index=[variable, 'prestige'],\n",
    "                            aggfunc=np.mean)\n",
    "    \n",
    "   \n",
    "    colors = 'rbgyrbgy'\n",
    "    for col in combos.prestige.unique():\n",
    "        plt_data = grouped.ix[grouped.index.get_level_values(1)==col]\n",
    "        pl.plot(plt_data.index.get_level_values(0), plt_data['admit_pred'],\n",
    "                color=colors[int(col)])\n",
    "\n",
    "    pl.xlabel(variable)\n",
    "    pl.ylabel(\"P(admit=1)\")\n",
    "    pl.legend(['1', '2', '3', '4'], loc='upper left', title='Prestige')\n",
    "    pl.title(\"Prob(admit=1) isolating \" + variable + \" and presitge\")\n",
    "    pl.show()\n",
    "\n",
    "\n",
    "isolate_and_plot('gre')\n",
    "isolate_and_plot('gpa')"
   ]
  },
  {
   "cell_type": "markdown",
   "metadata": {},
   "source": [
    "### Discussion: Write up your discussion and future steps"
   ]
  },
  {
   "cell_type": "markdown",
   "metadata": {},
   "source": [
    "Answer: "
   ]
  }
 ],
 "metadata": {
  "kernelspec": {
   "display_name": "Python 2",
   "language": "python",
   "name": "python2"
  },
  "language_info": {
   "codemirror_mode": {
    "name": "ipython",
    "version": 2
   },
   "file_extension": ".py",
   "mimetype": "text/x-python",
   "name": "python",
   "nbconvert_exporter": "python",
   "pygments_lexer": "ipython2",
   "version": "2.7.11"
  }
 },
 "nbformat": 4,
 "nbformat_minor": 0
}
