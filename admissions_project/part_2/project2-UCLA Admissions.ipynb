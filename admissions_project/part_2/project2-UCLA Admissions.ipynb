{
 "cells": [
  {
   "cell_type": "markdown",
   "metadata": {},
   "source": [
    "# Project 2\n",
    "\n",
    "In this project, you will implement the exploratory analysis plan developed in Project 1. This will lay the groundwork for our our first modeling exercise in Project 3."
   ]
  },
  {
   "cell_type": "markdown",
   "metadata": {},
   "source": [
    "### Step 1: Load the python libraries you will need for this project "
   ]
  },
  {
   "cell_type": "code",
   "execution_count": 158,
   "metadata": {
    "collapsed": false
   },
   "outputs": [],
   "source": [
    "#imports\n",
    "from __future__ import division\n",
    "import pandas as pd\n",
    "import numpy as np\n",
    "import matplotlib.pyplot as plt\n",
    "import statsmodels.api as sm\n",
    "import pylab as pl\n",
    "import numpy as np\n",
    "import json\n",
    "import math\n",
    "import seaborn as sns\n",
    "\n",
    "%matplotlib inline"
   ]
  },
  {
   "cell_type": "markdown",
   "metadata": {},
   "source": [
    "### Step 2: Read in your data set "
   ]
  },
  {
   "cell_type": "code",
   "execution_count": 177,
   "metadata": {
    "collapsed": false
   },
   "outputs": [
    {
     "name": "stdout",
     "output_type": "stream",
     "text": [
      "   admit  gre   gpa  prestige\n",
      "0      0  380  3.61         3\n",
      "1      1  660  3.67         3\n",
      "2      1  800  4.00         1\n",
      "3      1  640  3.19         4\n",
      "4      0  520  2.93         4\n",
      "     admit  gre   gpa  prestige\n",
      "187      0  NaN   NaN         2\n",
      "212      0  NaN  2.87         2\n",
      "236      1  660   NaN       NaN\n"
     ]
    }
   ],
   "source": [
    "#Read in data from source \n",
    "df_raw = pd.read_csv(\"../assets/admissions.csv\")\n",
    "print df_raw.head()\n",
    "null_data = df_raw[df_raw.isnull().any(axis=1)]\n",
    "print null_data"
   ]
  },
  {
   "cell_type": "markdown",
   "metadata": {},
   "source": [
    "## Questions\n",
    "#### Question 1. How many observations are in our dataset? \n"
   ]
  },
  {
   "cell_type": "code",
   "execution_count": 91,
   "metadata": {
    "collapsed": false,
    "scrolled": false
   },
   "outputs": [
    {
     "name": "stdout",
     "output_type": "stream",
     "text": [
      "400\n",
      "4\n"
     ]
    }
   ],
   "source": [
    "# df_raw.count() only gives the row count \n",
    "rows,vars = df_raw.shape\n",
    "print(rows)\n",
    "print(vars)\n"
   ]
  },
  {
   "cell_type": "markdown",
   "metadata": {},
   "source": [
    "Answer: 400"
   ]
  },
  {
   "cell_type": "markdown",
   "metadata": {},
   "source": [
    "#### Question 2. Create a summary table"
   ]
  },
  {
   "cell_type": "code",
   "execution_count": null,
   "metadata": {
    "collapsed": true
   },
   "outputs": [],
   "source": [
    "#function"
   ]
  },
  {
   "cell_type": "code",
   "execution_count": 7,
   "metadata": {
    "collapsed": false
   },
   "outputs": [
    {
     "data": {
      "text/html": [
       "<div>\n",
       "<table border=\"1\" class=\"dataframe\">\n",
       "  <thead>\n",
       "    <tr style=\"text-align: right;\">\n",
       "      <th></th>\n",
       "      <th>admit</th>\n",
       "      <th>gre</th>\n",
       "      <th>gpa</th>\n",
       "      <th>prestige</th>\n",
       "    </tr>\n",
       "  </thead>\n",
       "  <tbody>\n",
       "    <tr>\n",
       "      <th>count</th>\n",
       "      <td>400.000000</td>\n",
       "      <td>398.000000</td>\n",
       "      <td>398.00000</td>\n",
       "      <td>399.000000</td>\n",
       "    </tr>\n",
       "    <tr>\n",
       "      <th>mean</th>\n",
       "      <td>0.317500</td>\n",
       "      <td>588.040201</td>\n",
       "      <td>3.39093</td>\n",
       "      <td>2.486216</td>\n",
       "    </tr>\n",
       "    <tr>\n",
       "      <th>std</th>\n",
       "      <td>0.466087</td>\n",
       "      <td>115.628513</td>\n",
       "      <td>0.38063</td>\n",
       "      <td>0.945333</td>\n",
       "    </tr>\n",
       "    <tr>\n",
       "      <th>min</th>\n",
       "      <td>0.000000</td>\n",
       "      <td>220.000000</td>\n",
       "      <td>2.26000</td>\n",
       "      <td>1.000000</td>\n",
       "    </tr>\n",
       "    <tr>\n",
       "      <th>25%</th>\n",
       "      <td>0.000000</td>\n",
       "      <td>520.000000</td>\n",
       "      <td>3.13000</td>\n",
       "      <td>2.000000</td>\n",
       "    </tr>\n",
       "    <tr>\n",
       "      <th>50%</th>\n",
       "      <td>0.000000</td>\n",
       "      <td>580.000000</td>\n",
       "      <td>3.39500</td>\n",
       "      <td>2.000000</td>\n",
       "    </tr>\n",
       "    <tr>\n",
       "      <th>75%</th>\n",
       "      <td>1.000000</td>\n",
       "      <td>660.000000</td>\n",
       "      <td>3.67000</td>\n",
       "      <td>3.000000</td>\n",
       "    </tr>\n",
       "    <tr>\n",
       "      <th>max</th>\n",
       "      <td>1.000000</td>\n",
       "      <td>800.000000</td>\n",
       "      <td>4.00000</td>\n",
       "      <td>4.000000</td>\n",
       "    </tr>\n",
       "  </tbody>\n",
       "</table>\n",
       "</div>"
      ],
      "text/plain": [
       "            admit         gre        gpa    prestige\n",
       "count  400.000000  398.000000  398.00000  399.000000\n",
       "mean     0.317500  588.040201    3.39093    2.486216\n",
       "std      0.466087  115.628513    0.38063    0.945333\n",
       "min      0.000000  220.000000    2.26000    1.000000\n",
       "25%      0.000000  520.000000    3.13000    2.000000\n",
       "50%      0.000000  580.000000    3.39500    2.000000\n",
       "75%      1.000000  660.000000    3.67000    3.000000\n",
       "max      1.000000  800.000000    4.00000    4.000000"
      ]
     },
     "execution_count": 7,
     "metadata": {},
     "output_type": "execute_result"
    }
   ],
   "source": [
    "df_raw.describe()"
   ]
  },
  {
   "cell_type": "markdown",
   "metadata": {},
   "source": [
    "#### Question 3. Why would GRE have a larger STD than GPA?"
   ]
  },
  {
   "cell_type": "markdown",
   "metadata": {},
   "source": [
    "Answer: the GRE observations are more spread out (wider range of values from min to max) causing a larger standard deviation. "
   ]
  },
  {
   "cell_type": "markdown",
   "metadata": {
    "collapsed": true
   },
   "source": [
    "#### Question 4. Drop data points with missing data\n"
   ]
  },
  {
   "cell_type": "code",
   "execution_count": 189,
   "metadata": {
    "collapsed": false
   },
   "outputs": [
    {
     "name": "stdout",
     "output_type": "stream",
     "text": [
      "     admit  gre   gpa  prestige\n",
      "187      0  NaN   NaN         2\n",
      "212      0  NaN  2.87         2\n",
      "236      1  660   NaN       NaN\n"
     ]
    }
   ],
   "source": [
    "# can check manually with df_raw[:].isnull()\n",
    "# dropna == drops NaN, you can set threshold for how many NaN cells there can be -> thresh=n\n",
    "df_raw.dropna()\n"
   ]
  },
  {
   "cell_type": "markdown",
   "metadata": {
    "collapsed": true
   },
   "source": [
    "#### Question 5. Confirm that you dropped the correct data. How can you tell? "
   ]
  },
  {
   "cell_type": "code",
   "execution_count": 188,
   "metadata": {
    "collapsed": false
   },
   "outputs": [
    {
     "name": "stdout",
     "output_type": "stream",
     "text": [
      "     admit  gre   gpa  prestige\n",
      "187      0  NaN   NaN         2\n",
      "212      0  NaN  2.87         2\n",
      "236      1  660   NaN       NaN\n"
     ]
    }
   ],
   "source": [
    "sum([True for idx,row in df_raw.iterrows() if any(row.isnull())])\n",
    "# ^ will return how many have NaN\n",
    "print null_data"
   ]
  },
  {
   "cell_type": "markdown",
   "metadata": {},
   "source": [
    "Answer: "
   ]
  },
  {
   "cell_type": "markdown",
   "metadata": {},
   "source": [
    "#### Question 6. Create box plots for GRE and GPA"
   ]
  },
  {
   "cell_type": "code",
   "execution_count": 66,
   "metadata": {
    "collapsed": false
   },
   "outputs": [
    {
     "name": "stderr",
     "output_type": "stream",
     "text": [
      "C:\\Users\\Zane_Harris\\AppData\\Local\\Continuum\\Anaconda2\\lib\\site-packages\\ipykernel\\__main__.py:2: FutureWarning: \n",
      "The default value for 'return_type' will change to 'axes' in a future release.\n",
      " To use the future behavior now, set return_type='axes'.\n",
      " To keep the previous behavior and silence this warning, set return_type='dict'.\n",
      "  from ipykernel import kernelapp as app\n"
     ]
    },
    {
     "data": {
      "text/plain": [
       "{'boxes': [<matplotlib.lines.Line2D at 0xd1eabe0>],\n",
       " 'caps': [<matplotlib.lines.Line2D at 0xd1faa58>,\n",
       "  <matplotlib.lines.Line2D at 0xd1fafd0>],\n",
       " 'fliers': [<matplotlib.lines.Line2D at 0xd24ab00>],\n",
       " 'means': [],\n",
       " 'medians': [<matplotlib.lines.Line2D at 0xd24a588>],\n",
       " 'whiskers': [<matplotlib.lines.Line2D at 0xd1eaef0>,\n",
       "  <matplotlib.lines.Line2D at 0xd1fa4e0>]}"
      ]
     },
     "execution_count": 66,
     "metadata": {},
     "output_type": "execute_result"
    },
    {
     "data": {
      "image/png": "[encoded data removed]",
      "text/plain": [
       "<matplotlib.figure.Figure at 0xcffbac8>"
      ]
     },
     "metadata": {},
     "output_type": "display_data"
    }
   ],
   "source": [
    "#boxplot 1\n",
    "df_raw.boxplot(['gre'])\n"
   ]
  },
  {
   "cell_type": "code",
   "execution_count": 65,
   "metadata": {
    "collapsed": false
   },
   "outputs": [
    {
     "name": "stderr",
     "output_type": "stream",
     "text": [
      "C:\\Users\\Zane_Harris\\AppData\\Local\\Continuum\\Anaconda2\\lib\\site-packages\\ipykernel\\__main__.py:3: FutureWarning: \n",
      "The default value for 'return_type' will change to 'axes' in a future release.\n",
      " To use the future behavior now, set return_type='axes'.\n",
      " To keep the previous behavior and silence this warning, set return_type='dict'.\n",
      "  app.launch_new_instance()\n"
     ]
    },
    {
     "data": {
      "text/plain": [
       "{'boxes': [<matplotlib.lines.Line2D at 0xcf4c048>],\n",
       " 'caps': [<matplotlib.lines.Line2D at 0xcf4cd30>,\n",
       "  <matplotlib.lines.Line2D at 0xcf572e8>],\n",
       " 'fliers': [<matplotlib.lines.Line2D at 0xcf57d68>],\n",
       " 'means': [],\n",
       " 'medians': [<matplotlib.lines.Line2D at 0xcf3be48>],\n",
       " 'whiskers': [<matplotlib.lines.Line2D at 0xcf4c208>,\n",
       "  <matplotlib.lines.Line2D at 0xcf4c7b8>]}"
      ]
     },
     "execution_count": 65,
     "metadata": {},
     "output_type": "execute_result"
    },
    {
     "data": {
      "image/png": "[encoded data removed]",
      "text/plain": [
       "<matplotlib.figure.Figure at 0xce71400>"
      ]
     },
     "metadata": {},
     "output_type": "display_data"
    }
   ],
   "source": [
    "#boxplot 2\n",
    "\n",
    "df_raw.boxplot(['gpa'])\n"
   ]
  },
  {
   "cell_type": "markdown",
   "metadata": {},
   "source": [
    "#### Question 7. What do this plots show?"
   ]
  },
  {
   "cell_type": "markdown",
   "metadata": {},
   "source": [
    "Answer: They show the min, max, mean and the crosshair is indicating an outlier"
   ]
  },
  {
   "cell_type": "markdown",
   "metadata": {},
   "source": [
    "#### Question 8. Describe each distribution "
   ]
  },
  {
   "cell_type": "code",
   "execution_count": 150,
   "metadata": {
    "collapsed": false
   },
   "outputs": [
    {
     "data": {
      "image/png": "[encoded data removed]",
      "text/plain": [
       "<matplotlib.figure.Figure at 0xd8bb668>"
      ]
     },
     "metadata": {},
     "output_type": "display_data"
    }
   ],
   "source": [
    "# plot the distribution of each variable \n",
    "\n",
    "df_raw.hist(['gre'], bins=12)\n",
    "plt.title(\"GRE Scores\")\n",
    "plt.xlabel(\"GRE Bins\") \n",
    "plt.ylabel(\"Students\") \n",
    "plt.show()\n",
    "\n",
    "# GRE Scores are pretty normally distributed with maybe a slight \n",
    "# slight negative skew (probably because while the lowest score is a 220, most people would not score so low)"
   ]
  },
  {
   "cell_type": "code",
   "execution_count": 151,
   "metadata": {
    "collapsed": false
   },
   "outputs": [
    {
     "data": {
      "image/png": "[encoded data removed]",
      "text/plain": [
       "<matplotlib.figure.Figure at 0xce7b470>"
      ]
     },
     "metadata": {},
     "output_type": "display_data"
    }
   ],
   "source": [
    "# plot the distribution of each variable \n",
    "\n",
    "df_raw.hist(['gpa'], bins=12)\n",
    "plt.title(\"Student GPAs\")\n",
    "plt.xlabel(\"GPA Bins\") \n",
    "plt.ylabel(\"Students\")\n",
    "\n",
    "plt.show()\n",
    "\n",
    "# GPAs are more negatively skewed than GRE scores, but overall it's a normal\n",
    "# distribution besides the large pool of 4.0 students\n",
    "# slight negative skew"
   ]
  },
  {
   "cell_type": "code",
   "execution_count": 135,
   "metadata": {
    "collapsed": false,
    "scrolled": true
   },
   "outputs": [
    {
     "data": {
      "text/plain": [
       "admit      -1.387513\n",
       "gre        -0.330065\n",
       "gpa        -0.574623\n",
       "prestige   -0.894759\n",
       "dtype: float64"
      ]
     },
     "execution_count": 135,
     "metadata": {},
     "output_type": "execute_result"
    }
   ],
   "source": [
    "df_raw.kurt()"
   ]
  },
  {
   "cell_type": "code",
   "execution_count": 136,
   "metadata": {
    "collapsed": false,
    "scrolled": true
   },
   "outputs": [
    {
     "data": {
      "text/plain": [
       "admit       0.787051\n",
       "gre        -0.150127\n",
       "gpa        -0.211765\n",
       "prestige    0.093663\n",
       "dtype: float64"
      ]
     },
     "execution_count": 136,
     "metadata": {},
     "output_type": "execute_result"
    }
   ],
   "source": [
    "df_raw.skew()"
   ]
  },
  {
   "cell_type": "markdown",
   "metadata": {},
   "source": [
    "#### Question 9.  If our model had an assumption of a normal distribution would we meet that requirement? "
   ]
  },
  {
   "cell_type": "markdown",
   "metadata": {},
   "source": [
    "Answer: no"
   ]
  },
  {
   "cell_type": "markdown",
   "metadata": {},
   "source": [
    "#### Question 10.  Does this distribution need correction? If so, why? How? "
   ]
  },
  {
   "cell_type": "markdown",
   "metadata": {},
   "source": [
    "Answer: yes, work to normalize is shown below"
   ]
  },
  {
   "cell_type": "code",
   "execution_count": 153,
   "metadata": {
    "collapsed": false
   },
   "outputs": [
    {
     "data": {
      "image/png": "[encoded data removed]",
      "text/plain": [
       "<matplotlib.figure.Figure at 0xe0bb0b8>"
      ]
     },
     "metadata": {},
     "output_type": "display_data"
    }
   ],
   "source": [
    "x = df_raw\n",
    "df_norm = (x - np.mean(x))/np.std(x)\n",
    "df_norm.hist(['gpa'], bins=12)\n",
    "plt.title(\"Student GPAs\")\n",
    "plt.xlabel(\"GPA Bins\") \n",
    "plt.ylabel(\"Students\")\n",
    "\n",
    "plt.show()\n",
    "\n",
    "# normalized the distribution, not a major change because it was not heavily skewed in the first place"
   ]
  },
  {
   "cell_type": "markdown",
   "metadata": {},
   "source": [
    "#### Question 11. Which of our variables are potentially colinear? "
   ]
  },
  {
   "cell_type": "code",
   "execution_count": 161,
   "metadata": {
    "collapsed": false
   },
   "outputs": [
    {
     "name": "stdout",
     "output_type": "stream",
     "text": [
      "             admit       gre       gpa  prestige\n",
      "admit     1.000000  0.182919  0.175952 -0.241355\n",
      "gre       0.182919  1.000000  0.382408 -0.124533\n",
      "gpa       0.175952  0.382408  1.000000 -0.059031\n",
      "prestige -0.241355 -0.124533 -0.059031  1.000000\n",
      "Axes(0.125,0.125;0.62x0.775)\n"
     ]
    },
    {
     "data": {
      "image/png": "[encoded data removed]",
      "text/plain": [
       "<matplotlib.figure.Figure at 0xf1b34a8>"
      ]
     },
     "metadata": {},
     "output_type": "display_data"
    }
   ],
   "source": [
    "# create a correlation matrix for the data\n",
    "# using the normalized data to create a heat map using seaborn\n",
    "\n",
    "cmap = sns.diverging_palette(220, 10, as_cmap=True)\n",
    "\n",
    "correlations = df_norm.corr()\n",
    "print correlations\n",
    "print sns.heatmap(correlations, cmap=cmap)\n",
    "\n",
    "# GPA and GRE scores have a 38% correlation which would make me think there are some multicollinearity issues there"
   ]
  },
  {
   "cell_type": "markdown",
   "metadata": {},
   "source": [
    "#### Question 12. What did you find?"
   ]
  },
  {
   "cell_type": "markdown",
   "metadata": {},
   "source": [
    "Answer: GPA and GRE are correlated positively, admission also correlates to gre and gpa positively, but not prestige (negative correlation to prestige)\n",
    "I would've expected a larger negative correlation between GPA and Prestige (harder / better the school, lower the GPA, but it was only ~ -6% and ~ -12% correlation to GRE\n",
    "\n",
    "A student would seemingly be better off going to a lower prestige school if they can get a high GPA and GRE score"
   ]
  },
  {
   "cell_type": "markdown",
   "metadata": {},
   "source": [
    "#### Question 13. Write an analysis plan for exploring the association between grad school admissions rates and prestige of  undergraduate schools."
   ]
  },
  {
   "cell_type": "markdown",
   "metadata": {},
   "source": [
    "Answer: \n",
    "\n",
    "- Determine how the variable prestige is scaled (what goes into deciding the level 1 - 4 the undergrad school lands on)\n",
    "- Explore secondary data from other graduate schools to see if this is a common situation\n",
    "- Collect the official UCLA graduate admissions requirements and compare to findings\n",
    "- Interview an admissions officer to better understand the thinking\n",
    "- Since prestige is very slightly negatively correlated to gre and gpa I'd look to see if there was any deeper relationship there"
   ]
  },
  {
   "cell_type": "markdown",
   "metadata": {},
   "source": [
    "#### Question 14. What is your hypothesis? "
   ]
  },
  {
   "cell_type": "markdown",
   "metadata": {},
   "source": [
    "Answer: Applicants are more likely to be admitted to UCLA when they have a high GRE score and high GPA and UCLA admissions finds these data points to be more reliable when determining student success than the prestige of a student's undergraduate university. "
   ]
  },
  {
   "cell_type": "markdown",
   "metadata": {},
   "source": [
    "## Bonus/Advanced"
   ]
  },
  {
   "cell_type": "markdown",
   "metadata": {},
   "source": [
    "#### 1. Bonus: Explore alternatives to dropping obervations with missing data\n",
    "\n",
    "If only one variable had missing data, for example GPA was missing but GRE and admissions were not missing. You could build a model to predict the most likley GPA a student would have an insert those values\n",
    "\n",
    "If some variables had more missing data than others you could analyze the data accoriding to availability, but that is limiting\n",
    "\n",
    "IMPUTATION\n",
    "single imputation method would just mean I could use one input to fill in missing values, but that has a large assumption, which is that we know the answer with certainty\n",
    "\n",
    "mean imputation is just taking the mean of that variable and using it as the input for missing values, but this can lower standard deviation and pull variable correlations towards zero\n",
    "\n",
    "random number imputation (self explanatory)\n",
    "\n",
    "also, not sure if this method is overkill for missing values, but maybe taknig a k-NN approach would be smart or at least conservative...if you watched for the behavior of observations near the observation with missing data and replicated their inputs at least it would make the overall prediction underestimate an effect (I think lol)"
   ]
  },
  {
   "cell_type": "markdown",
   "metadata": {},
   "source": [
    "#### 2. Bonus: Log transform the skewed data"
   ]
  },
  {
   "cell_type": "markdown",
   "metadata": {},
   "source": [
    "#### 3. Advanced: Impute missing data"
   ]
  },
  {
   "cell_type": "code",
   "execution_count": 203,
   "metadata": {
    "collapsed": false
   },
   "outputs": [],
   "source": [
    "df_raw[\"gre\"].fillna(df_raw.groupby(\"admit\")[\"gre\"].transform(\"mean\"), inplace=True)\n",
    "df_raw[\"gre\"].fillna(df_raw[\"gre\"].mean(), inplace=True)\n",
    "df_raw[\"gpa\"].fillna(df_raw.groupby(\"admit\")[\"gpa\"].transform(\"mean\"), inplace=True)\n",
    "df_raw[\"gpa\"].fillna(df_raw[\"gpa\"].mean(), inplace=True)\n",
    "df_raw[\"prestige\"].fillna(df_raw.groupby(\"admit\")[\"prestige\"].transform(\"mean\"), inplace=True)\n",
    "df_raw[\"prestige\"].fillna(df_raw[\"prestige\"].mean(), inplace=True)\n",
    "sum([True for idx,row in df_raw.iterrows() if any(row.isnull())])\n",
    "print df_raw.iloc?"
   ]
  },
  {
   "cell_type": "code",
   "execution_count": 204,
   "metadata": {
    "collapsed": false
   },
   "outputs": [
    {
     "name": "stdout",
     "output_type": "stream",
     "text": [
      "     admit  gre   gpa  prestige\n",
      "188      0  560  3.07         2\n",
      "214      1  600  3.56         2\n",
      "239      0  700  3.45         3\n"
     ]
    }
   ],
   "source": [
    "print df_raw.iloc[[187, 212, 236]]"
   ]
  },
  {
   "cell_type": "code",
   "execution_count": null,
   "metadata": {
    "collapsed": true
   },
   "outputs": [],
   "source": []
  }
 ],
 "metadata": {
  "kernelspec": {
   "display_name": "Python 2",
   "language": "python",
   "name": "python2"
  },
  "language_info": {
   "codemirror_mode": {
    "name": "ipython",
    "version": 2
   },
   "file_extension": ".py",
   "mimetype": "text/x-python",
   "name": "python",
   "nbconvert_exporter": "python",
   "pygments_lexer": "ipython2",
   "version": "2.7.11"
  }
 },
 "nbformat": 4,
 "nbformat_minor": 0
}
