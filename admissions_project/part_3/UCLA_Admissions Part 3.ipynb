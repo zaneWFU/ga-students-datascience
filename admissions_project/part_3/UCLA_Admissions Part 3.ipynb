{
 "cells": [
  {
   "cell_type": "markdown",
   "metadata": {},
   "source": [
    "# Project 3\n",
    "\n",
    "In this project, you will perform a logistic regression on the admissions data we've been working with in projects 1 and 2."
   ]
  },
  {
   "cell_type": "code",
   "execution_count": 6,
   "metadata": {
    "collapsed": true
   },
   "outputs": [],
   "source": [
    "%matplotlib inline\n",
    "import matplotlib.pyplot as plt\n",
    "import pandas as pd\n",
    "import statsmodels.api as sm\n",
    "import pylab as pl\n",
    "import numpy as np\n"
   ]
  },
  {
   "cell_type": "code",
   "execution_count": 78,
   "metadata": {
    "collapsed": false
   },
   "outputs": [
    {
     "name": "stdout",
     "output_type": "stream",
     "text": [
      "   admit  gre   gpa  prestige\n",
      "0      0  380  3.61         3\n",
      "1      1  660  3.67         3\n",
      "2      1  800  4.00         1\n",
      "3      1  640  3.19         4\n",
      "4      0  520  2.93         4\n"
     ]
    }
   ],
   "source": [
    "df_raw = pd.read_csv(\"../assets/admissions.csv\")\n",
    "df = df_raw.dropna() \n",
    "print df.head()"
   ]
  },
  {
   "cell_type": "markdown",
   "metadata": {},
   "source": [
    "## Part 1. Frequency Tables\n",
    "\n",
    "#### 1. Let's create a frequency table of our variables"
   ]
  },
  {
   "cell_type": "code",
   "execution_count": 79,
   "metadata": {
    "collapsed": false
   },
   "outputs": [
    {
     "data": {
      "text/plain": [
       "<pandas.core.groupby.DataFrameGroupBy object at 0x000000000AE4C5F8>"
      ]
     },
     "execution_count": 79,
     "metadata": {},
     "output_type": "execute_result"
    }
   ],
   "source": [
    "# frequency table for prestige and whether or not someone was admitted\n",
    "df_raw.groupby('prestige')"
   ]
  },
  {
   "cell_type": "markdown",
   "metadata": {},
   "source": [
    "## Part 2. Return of dummy variables"
   ]
  },
  {
   "cell_type": "markdown",
   "metadata": {},
   "source": [
    "#### 2.1 Create class or dummy variables for prestige "
   ]
  },
  {
   "cell_type": "code",
   "execution_count": 94,
   "metadata": {
    "collapsed": false
   },
   "outputs": [
    {
     "name": "stdout",
     "output_type": "stream",
     "text": [
      "   prestige_1.0  prestige_2.0  prestige_3.0  prestige_4.0\n",
      "0             0             0             1             0\n",
      "1             0             0             1             0\n",
      "2             1             0             0             0\n",
      "3             0             0             0             1\n",
      "4             0             0             0             1\n"
     ]
    }
   ],
   "source": [
    "dummy_ranks = pd.get_dummies(df_raw['prestige'], prefix='prestige') \n",
    "print dummy_ranks.head() \n",
    "\n"
   ]
  },
  {
   "cell_type": "markdown",
   "metadata": {},
   "source": [
    "#### 2.2 When modeling our class variables, how many do we need? \n",
    "\n"
   ]
  },
  {
   "cell_type": "markdown",
   "metadata": {},
   "source": [
    "Answer: n-1"
   ]
  },
  {
   "cell_type": "markdown",
   "metadata": {},
   "source": [
    "## Part 3. Hand calculating odds ratios\n",
    "\n",
    "Develop your intuition about expected outcomes by hand calculating odds ratios."
   ]
  },
  {
   "cell_type": "code",
   "execution_count": 93,
   "metadata": {
    "collapsed": false
   },
   "outputs": [
    {
     "name": "stdout",
     "output_type": "stream",
     "text": [
      "   admit  gre   gpa  prestige_2.0  prestige_3.0  prestige_4.0\n",
      "0      0  380  3.61             0             1             0\n",
      "1      1  660  3.67             0             1             0\n",
      "2      1  800  4.00             0             0             0\n",
      "3      1  640  3.19             0             0             1\n",
      "4      0  520  2.93             0             0             1\n"
     ]
    }
   ],
   "source": [
    "cols_to_keep = ['admit', 'gre', 'gpa'] \n",
    "df2 = df_raw[cols_to_keep].join(dummy_ranks.ix[:, 'prestige_2':]) \n",
    "print df2.head() \n",
    "df2['intercept'] = 1.0"
   ]
  },
  {
   "cell_type": "code",
   "execution_count": 89,
   "metadata": {
    "collapsed": false
   },
   "outputs": [],
   "source": [
    "#crosstab prestige 1 admission \n",
    "# frequency table cutting prestige and whether or not someone was admitted\n"
   ]
  },
  {
   "cell_type": "markdown",
   "metadata": {},
   "source": [
    "#### 3.1 Use the cross tab above to calculate the odds of being admitted to grad school if you attended a #1 ranked college"
   ]
  },
  {
   "cell_type": "code",
   "execution_count": 90,
   "metadata": {
    "collapsed": false
   },
   "outputs": [
    {
     "name": "stdout",
     "output_type": "stream",
     "text": [
      "0.666666666667\n"
     ]
    }
   ],
   "source": [
    "x = (2.0/5)\n",
    "y = (3.0/5)\n",
    "print x/y\n"
   ]
  },
  {
   "cell_type": "markdown",
   "metadata": {},
   "source": [
    "#### 3.2 Now calculate the odds of admission if you did not attend a #1 ranked college"
   ]
  },
  {
   "cell_type": "code",
   "execution_count": 91,
   "metadata": {
    "collapsed": false
   },
   "outputs": [
    {
     "name": "stdout",
     "output_type": "stream",
     "text": [
      "1.5\n"
     ]
    }
   ],
   "source": [
    "print y/x"
   ]
  },
  {
   "cell_type": "markdown",
   "metadata": {},
   "source": [
    "#### 3.3 Calculate the odds ratio"
   ]
  },
  {
   "cell_type": "code",
   "execution_count": 104,
   "metadata": {
    "collapsed": false
   },
   "outputs": [
    {
     "data": {
      "text/html": [
       "<div>\n",
       "<table border=\"1\" class=\"dataframe\">\n",
       "  <thead>\n",
       "    <tr style=\"text-align: right;\">\n",
       "      <th></th>\n",
       "      <th>admit</th>\n",
       "      <th>gre</th>\n",
       "      <th>gpa</th>\n",
       "      <th>prestige_2.0</th>\n",
       "      <th>prestige_3.0</th>\n",
       "      <th>prestige_4.0</th>\n",
       "      <th>intercept</th>\n",
       "    </tr>\n",
       "  </thead>\n",
       "  <tbody>\n",
       "    <tr>\n",
       "      <th>0</th>\n",
       "      <td>1.000000</td>\n",
       "      <td>1.076225e+165</td>\n",
       "      <td>36.966053</td>\n",
       "      <td>1.000000</td>\n",
       "      <td>2.718282</td>\n",
       "      <td>1.000000</td>\n",
       "      <td>2.718282</td>\n",
       "    </tr>\n",
       "    <tr>\n",
       "      <th>1</th>\n",
       "      <td>2.718282</td>\n",
       "      <td>4.308817e+286</td>\n",
       "      <td>39.251906</td>\n",
       "      <td>1.000000</td>\n",
       "      <td>2.718282</td>\n",
       "      <td>1.000000</td>\n",
       "      <td>2.718282</td>\n",
       "    </tr>\n",
       "    <tr>\n",
       "      <th>2</th>\n",
       "      <td>2.718282</td>\n",
       "      <td>inf</td>\n",
       "      <td>54.598150</td>\n",
       "      <td>1.000000</td>\n",
       "      <td>1.000000</td>\n",
       "      <td>1.000000</td>\n",
       "      <td>2.718282</td>\n",
       "    </tr>\n",
       "    <tr>\n",
       "      <th>3</th>\n",
       "      <td>2.718282</td>\n",
       "      <td>8.881134e+277</td>\n",
       "      <td>24.288427</td>\n",
       "      <td>1.000000</td>\n",
       "      <td>1.000000</td>\n",
       "      <td>2.718282</td>\n",
       "      <td>2.718282</td>\n",
       "    </tr>\n",
       "    <tr>\n",
       "      <th>4</th>\n",
       "      <td>1.000000</td>\n",
       "      <td>6.809741e+225</td>\n",
       "      <td>18.727630</td>\n",
       "      <td>1.000000</td>\n",
       "      <td>1.000000</td>\n",
       "      <td>2.718282</td>\n",
       "      <td>2.718282</td>\n",
       "    </tr>\n",
       "    <tr>\n",
       "      <th>5</th>\n",
       "      <td>2.718282</td>\n",
       "      <td>inf</td>\n",
       "      <td>20.085537</td>\n",
       "      <td>2.718282</td>\n",
       "      <td>1.000000</td>\n",
       "      <td>1.000000</td>\n",
       "      <td>2.718282</td>\n",
       "    </tr>\n",
       "    <tr>\n",
       "      <th>6</th>\n",
       "      <td>2.718282</td>\n",
       "      <td>1.602913e+243</td>\n",
       "      <td>19.687817</td>\n",
       "      <td>1.000000</td>\n",
       "      <td>1.000000</td>\n",
       "      <td>1.000000</td>\n",
       "      <td>2.718282</td>\n",
       "    </tr>\n",
       "    <tr>\n",
       "      <th>7</th>\n",
       "      <td>1.000000</td>\n",
       "      <td>5.221470e+173</td>\n",
       "      <td>21.758402</td>\n",
       "      <td>2.718282</td>\n",
       "      <td>1.000000</td>\n",
       "      <td>1.000000</td>\n",
       "      <td>2.718282</td>\n",
       "    </tr>\n",
       "    <tr>\n",
       "      <th>8</th>\n",
       "      <td>2.718282</td>\n",
       "      <td>3.303849e+234</td>\n",
       "      <td>29.665952</td>\n",
       "      <td>1.000000</td>\n",
       "      <td>2.718282</td>\n",
       "      <td>1.000000</td>\n",
       "      <td>2.718282</td>\n",
       "    </tr>\n",
       "    <tr>\n",
       "      <th>9</th>\n",
       "      <td>1.000000</td>\n",
       "      <td>1.014232e+304</td>\n",
       "      <td>50.400445</td>\n",
       "      <td>2.718282</td>\n",
       "      <td>1.000000</td>\n",
       "      <td>1.000000</td>\n",
       "      <td>2.718282</td>\n",
       "    </tr>\n",
       "    <tr>\n",
       "      <th>10</th>\n",
       "      <td>1.000000</td>\n",
       "      <td>inf</td>\n",
       "      <td>54.598150</td>\n",
       "      <td>1.000000</td>\n",
       "      <td>1.000000</td>\n",
       "      <td>2.718282</td>\n",
       "      <td>2.718282</td>\n",
       "    </tr>\n",
       "    <tr>\n",
       "      <th>11</th>\n",
       "      <td>1.000000</td>\n",
       "      <td>1.229057e+191</td>\n",
       "      <td>25.028120</td>\n",
       "      <td>1.000000</td>\n",
       "      <td>1.000000</td>\n",
       "      <td>1.000000</td>\n",
       "      <td>2.718282</td>\n",
       "    </tr>\n",
       "    <tr>\n",
       "      <th>12</th>\n",
       "      <td>2.718282</td>\n",
       "      <td>inf</td>\n",
       "      <td>54.598150</td>\n",
       "      <td>1.000000</td>\n",
       "      <td>1.000000</td>\n",
       "      <td>1.000000</td>\n",
       "      <td>2.718282</td>\n",
       "    </tr>\n",
       "    <tr>\n",
       "      <th>13</th>\n",
       "      <td>1.000000</td>\n",
       "      <td>1.014232e+304</td>\n",
       "      <td>21.758402</td>\n",
       "      <td>2.718282</td>\n",
       "      <td>1.000000</td>\n",
       "      <td>1.000000</td>\n",
       "      <td>2.718282</td>\n",
       "    </tr>\n",
       "    <tr>\n",
       "      <th>14</th>\n",
       "      <td>2.718282</td>\n",
       "      <td>1.014232e+304</td>\n",
       "      <td>54.598150</td>\n",
       "      <td>1.000000</td>\n",
       "      <td>1.000000</td>\n",
       "      <td>1.000000</td>\n",
       "      <td>2.718282</td>\n",
       "    </tr>\n",
       "    <tr>\n",
       "      <th>15</th>\n",
       "      <td>1.000000</td>\n",
       "      <td>2.893019e+208</td>\n",
       "      <td>31.186958</td>\n",
       "      <td>1.000000</td>\n",
       "      <td>2.718282</td>\n",
       "      <td>1.000000</td>\n",
       "      <td>2.718282</td>\n",
       "    </tr>\n",
       "    <tr>\n",
       "      <th>16</th>\n",
       "      <td>1.000000</td>\n",
       "      <td>inf</td>\n",
       "      <td>47.942386</td>\n",
       "      <td>1.000000</td>\n",
       "      <td>1.000000</td>\n",
       "      <td>2.718282</td>\n",
       "      <td>2.718282</td>\n",
       "    </tr>\n",
       "    <tr>\n",
       "      <th>17</th>\n",
       "      <td>1.000000</td>\n",
       "      <td>2.218265e+156</td>\n",
       "      <td>12.935817</td>\n",
       "      <td>1.000000</td>\n",
       "      <td>2.718282</td>\n",
       "      <td>1.000000</td>\n",
       "      <td>2.718282</td>\n",
       "    </tr>\n",
       "    <tr>\n",
       "      <th>18</th>\n",
       "      <td>1.000000</td>\n",
       "      <td>inf</td>\n",
       "      <td>42.521082</td>\n",
       "      <td>2.718282</td>\n",
       "      <td>1.000000</td>\n",
       "      <td>1.000000</td>\n",
       "      <td>2.718282</td>\n",
       "    </tr>\n",
       "    <tr>\n",
       "      <th>19</th>\n",
       "      <td>2.718282</td>\n",
       "      <td>3.303849e+234</td>\n",
       "      <td>45.150439</td>\n",
       "      <td>1.000000</td>\n",
       "      <td>1.000000</td>\n",
       "      <td>1.000000</td>\n",
       "      <td>2.718282</td>\n",
       "    </tr>\n",
       "    <tr>\n",
       "      <th>20</th>\n",
       "      <td>1.000000</td>\n",
       "      <td>1.403592e+217</td>\n",
       "      <td>23.807484</td>\n",
       "      <td>1.000000</td>\n",
       "      <td>2.718282</td>\n",
       "      <td>1.000000</td>\n",
       "      <td>2.718282</td>\n",
       "    </tr>\n",
       "    <tr>\n",
       "      <th>21</th>\n",
       "      <td>2.718282</td>\n",
       "      <td>4.308817e+286</td>\n",
       "      <td>37.712817</td>\n",
       "      <td>2.718282</td>\n",
       "      <td>1.000000</td>\n",
       "      <td>1.000000</td>\n",
       "      <td>2.718282</td>\n",
       "    </tr>\n",
       "    <tr>\n",
       "      <th>22</th>\n",
       "      <td>1.000000</td>\n",
       "      <td>3.773020e+260</td>\n",
       "      <td>16.776851</td>\n",
       "      <td>1.000000</td>\n",
       "      <td>1.000000</td>\n",
       "      <td>2.718282</td>\n",
       "      <td>2.718282</td>\n",
       "    </tr>\n",
       "    <tr>\n",
       "      <th>23</th>\n",
       "      <td>1.000000</td>\n",
       "      <td>2.090488e+295</td>\n",
       "      <td>24.288427</td>\n",
       "      <td>1.000000</td>\n",
       "      <td>1.000000</td>\n",
       "      <td>2.718282</td>\n",
       "      <td>2.718282</td>\n",
       "    </tr>\n",
       "    <tr>\n",
       "      <th>24</th>\n",
       "      <td>2.718282</td>\n",
       "      <td>inf</td>\n",
       "      <td>28.502734</td>\n",
       "      <td>2.718282</td>\n",
       "      <td>1.000000</td>\n",
       "      <td>1.000000</td>\n",
       "      <td>2.718282</td>\n",
       "    </tr>\n",
       "    <tr>\n",
       "      <th>25</th>\n",
       "      <td>2.718282</td>\n",
       "      <td>inf</td>\n",
       "      <td>38.861343</td>\n",
       "      <td>1.000000</td>\n",
       "      <td>1.000000</td>\n",
       "      <td>1.000000</td>\n",
       "      <td>2.718282</td>\n",
       "    </tr>\n",
       "    <tr>\n",
       "      <th>26</th>\n",
       "      <td>2.718282</td>\n",
       "      <td>1.830538e+269</td>\n",
       "      <td>36.966053</td>\n",
       "      <td>1.000000</td>\n",
       "      <td>1.000000</td>\n",
       "      <td>1.000000</td>\n",
       "      <td>2.718282</td>\n",
       "    </tr>\n",
       "    <tr>\n",
       "      <th>27</th>\n",
       "      <td>2.718282</td>\n",
       "      <td>6.809741e+225</td>\n",
       "      <td>42.097990</td>\n",
       "      <td>1.000000</td>\n",
       "      <td>1.000000</td>\n",
       "      <td>2.718282</td>\n",
       "      <td>2.718282</td>\n",
       "    </tr>\n",
       "    <tr>\n",
       "      <th>28</th>\n",
       "      <td>2.718282</td>\n",
       "      <td>inf</td>\n",
       "      <td>25.028120</td>\n",
       "      <td>2.718282</td>\n",
       "      <td>1.000000</td>\n",
       "      <td>1.000000</td>\n",
       "      <td>2.718282</td>\n",
       "    </tr>\n",
       "    <tr>\n",
       "      <th>29</th>\n",
       "      <td>1.000000</td>\n",
       "      <td>6.809741e+225</td>\n",
       "      <td>26.842864</td>\n",
       "      <td>1.000000</td>\n",
       "      <td>1.000000</td>\n",
       "      <td>1.000000</td>\n",
       "      <td>2.718282</td>\n",
       "    </tr>\n",
       "    <tr>\n",
       "      <th>...</th>\n",
       "      <td>...</td>\n",
       "      <td>...</td>\n",
       "      <td>...</td>\n",
       "      <td>...</td>\n",
       "      <td>...</td>\n",
       "      <td>...</td>\n",
       "      <td>...</td>\n",
       "    </tr>\n",
       "    <tr>\n",
       "      <th>370</th>\n",
       "      <td>2.718282</td>\n",
       "      <td>3.303849e+234</td>\n",
       "      <td>43.380065</td>\n",
       "      <td>2.718282</td>\n",
       "      <td>1.000000</td>\n",
       "      <td>1.000000</td>\n",
       "      <td>2.718282</td>\n",
       "    </tr>\n",
       "    <tr>\n",
       "      <th>371</th>\n",
       "      <td>2.718282</td>\n",
       "      <td>2.090488e+295</td>\n",
       "      <td>42.948426</td>\n",
       "      <td>1.000000</td>\n",
       "      <td>2.718282</td>\n",
       "      <td>1.000000</td>\n",
       "      <td>2.718282</td>\n",
       "    </tr>\n",
       "    <tr>\n",
       "      <th>372</th>\n",
       "      <td>2.718282</td>\n",
       "      <td>2.090488e+295</td>\n",
       "      <td>11.245859</td>\n",
       "      <td>1.000000</td>\n",
       "      <td>1.000000</td>\n",
       "      <td>1.000000</td>\n",
       "      <td>2.718282</td>\n",
       "    </tr>\n",
       "    <tr>\n",
       "      <th>373</th>\n",
       "      <td>2.718282</td>\n",
       "      <td>1.830538e+269</td>\n",
       "      <td>29.078527</td>\n",
       "      <td>1.000000</td>\n",
       "      <td>1.000000</td>\n",
       "      <td>1.000000</td>\n",
       "      <td>2.718282</td>\n",
       "    </tr>\n",
       "    <tr>\n",
       "      <th>374</th>\n",
       "      <td>1.000000</td>\n",
       "      <td>1.602913e+243</td>\n",
       "      <td>43.816042</td>\n",
       "      <td>2.718282</td>\n",
       "      <td>1.000000</td>\n",
       "      <td>1.000000</td>\n",
       "      <td>2.718282</td>\n",
       "    </tr>\n",
       "    <tr>\n",
       "      <th>375</th>\n",
       "      <td>1.000000</td>\n",
       "      <td>1.602913e+243</td>\n",
       "      <td>32.785948</td>\n",
       "      <td>1.000000</td>\n",
       "      <td>1.000000</td>\n",
       "      <td>2.718282</td>\n",
       "      <td>2.718282</td>\n",
       "    </tr>\n",
       "    <tr>\n",
       "      <th>376</th>\n",
       "      <td>1.000000</td>\n",
       "      <td>1.830538e+269</td>\n",
       "      <td>37.712817</td>\n",
       "      <td>2.718282</td>\n",
       "      <td>1.000000</td>\n",
       "      <td>1.000000</td>\n",
       "      <td>2.718282</td>\n",
       "    </tr>\n",
       "    <tr>\n",
       "      <th>377</th>\n",
       "      <td>2.718282</td>\n",
       "      <td>inf</td>\n",
       "      <td>54.598150</td>\n",
       "      <td>2.718282</td>\n",
       "      <td>1.000000</td>\n",
       "      <td>1.000000</td>\n",
       "      <td>2.718282</td>\n",
       "    </tr>\n",
       "    <tr>\n",
       "      <th>378</th>\n",
       "      <td>1.000000</td>\n",
       "      <td>8.881134e+277</td>\n",
       "      <td>22.646380</td>\n",
       "      <td>1.000000</td>\n",
       "      <td>2.718282</td>\n",
       "      <td>1.000000</td>\n",
       "      <td>2.718282</td>\n",
       "    </tr>\n",
       "    <tr>\n",
       "      <th>379</th>\n",
       "      <td>1.000000</td>\n",
       "      <td>3.303849e+234</td>\n",
       "      <td>14.879732</td>\n",
       "      <td>2.718282</td>\n",
       "      <td>1.000000</td>\n",
       "      <td>1.000000</td>\n",
       "      <td>2.718282</td>\n",
       "    </tr>\n",
       "    <tr>\n",
       "      <th>380</th>\n",
       "      <td>1.000000</td>\n",
       "      <td>1.014232e+304</td>\n",
       "      <td>38.474666</td>\n",
       "      <td>2.718282</td>\n",
       "      <td>1.000000</td>\n",
       "      <td>1.000000</td>\n",
       "      <td>2.718282</td>\n",
       "    </tr>\n",
       "    <tr>\n",
       "      <th>381</th>\n",
       "      <td>2.718282</td>\n",
       "      <td>3.303849e+234</td>\n",
       "      <td>32.785948</td>\n",
       "      <td>2.718282</td>\n",
       "      <td>1.000000</td>\n",
       "      <td>1.000000</td>\n",
       "      <td>2.718282</td>\n",
       "    </tr>\n",
       "    <tr>\n",
       "      <th>382</th>\n",
       "      <td>1.000000</td>\n",
       "      <td>3.303849e+234</td>\n",
       "      <td>33.448268</td>\n",
       "      <td>2.718282</td>\n",
       "      <td>1.000000</td>\n",
       "      <td>1.000000</td>\n",
       "      <td>2.718282</td>\n",
       "    </tr>\n",
       "    <tr>\n",
       "      <th>383</th>\n",
       "      <td>1.000000</td>\n",
       "      <td>4.308817e+286</td>\n",
       "      <td>54.598150</td>\n",
       "      <td>1.000000</td>\n",
       "      <td>1.000000</td>\n",
       "      <td>1.000000</td>\n",
       "      <td>2.718282</td>\n",
       "    </tr>\n",
       "    <tr>\n",
       "      <th>384</th>\n",
       "      <td>2.718282</td>\n",
       "      <td>2.893019e+208</td>\n",
       "      <td>13.735724</td>\n",
       "      <td>2.718282</td>\n",
       "      <td>1.000000</td>\n",
       "      <td>1.000000</td>\n",
       "      <td>2.718282</td>\n",
       "    </tr>\n",
       "    <tr>\n",
       "      <th>385</th>\n",
       "      <td>1.000000</td>\n",
       "      <td>2.533275e+182</td>\n",
       "      <td>20.491292</td>\n",
       "      <td>1.000000</td>\n",
       "      <td>1.000000</td>\n",
       "      <td>1.000000</td>\n",
       "      <td>2.718282</td>\n",
       "    </tr>\n",
       "    <tr>\n",
       "      <th>386</th>\n",
       "      <td>2.718282</td>\n",
       "      <td>inf</td>\n",
       "      <td>47.465351</td>\n",
       "      <td>2.718282</td>\n",
       "      <td>1.000000</td>\n",
       "      <td>1.000000</td>\n",
       "      <td>2.718282</td>\n",
       "    </tr>\n",
       "    <tr>\n",
       "      <th>387</th>\n",
       "      <td>1.000000</td>\n",
       "      <td>7.776774e+251</td>\n",
       "      <td>28.789191</td>\n",
       "      <td>2.718282</td>\n",
       "      <td>1.000000</td>\n",
       "      <td>1.000000</td>\n",
       "      <td>2.718282</td>\n",
       "    </tr>\n",
       "    <tr>\n",
       "      <th>388</th>\n",
       "      <td>1.000000</td>\n",
       "      <td>8.881134e+277</td>\n",
       "      <td>23.807484</td>\n",
       "      <td>2.718282</td>\n",
       "      <td>1.000000</td>\n",
       "      <td>1.000000</td>\n",
       "      <td>2.718282</td>\n",
       "    </tr>\n",
       "    <tr>\n",
       "      <th>389</th>\n",
       "      <td>1.000000</td>\n",
       "      <td>8.881134e+277</td>\n",
       "      <td>33.448268</td>\n",
       "      <td>2.718282</td>\n",
       "      <td>1.000000</td>\n",
       "      <td>1.000000</td>\n",
       "      <td>2.718282</td>\n",
       "    </tr>\n",
       "    <tr>\n",
       "      <th>390</th>\n",
       "      <td>2.718282</td>\n",
       "      <td>inf</td>\n",
       "      <td>21.115344</td>\n",
       "      <td>2.718282</td>\n",
       "      <td>1.000000</td>\n",
       "      <td>1.000000</td>\n",
       "      <td>2.718282</td>\n",
       "    </tr>\n",
       "    <tr>\n",
       "      <th>391</th>\n",
       "      <td>2.718282</td>\n",
       "      <td>4.308817e+286</td>\n",
       "      <td>48.424215</td>\n",
       "      <td>2.718282</td>\n",
       "      <td>1.000000</td>\n",
       "      <td>1.000000</td>\n",
       "      <td>2.718282</td>\n",
       "    </tr>\n",
       "    <tr>\n",
       "      <th>392</th>\n",
       "      <td>2.718282</td>\n",
       "      <td>3.773020e+260</td>\n",
       "      <td>29.370771</td>\n",
       "      <td>1.000000</td>\n",
       "      <td>2.718282</td>\n",
       "      <td>1.000000</td>\n",
       "      <td>2.718282</td>\n",
       "    </tr>\n",
       "    <tr>\n",
       "      <th>393</th>\n",
       "      <td>2.718282</td>\n",
       "      <td>1.830538e+269</td>\n",
       "      <td>42.521082</td>\n",
       "      <td>2.718282</td>\n",
       "      <td>1.000000</td>\n",
       "      <td>1.000000</td>\n",
       "      <td>2.718282</td>\n",
       "    </tr>\n",
       "    <tr>\n",
       "      <th>394</th>\n",
       "      <td>2.718282</td>\n",
       "      <td>5.962957e+199</td>\n",
       "      <td>54.054889</td>\n",
       "      <td>1.000000</td>\n",
       "      <td>2.718282</td>\n",
       "      <td>1.000000</td>\n",
       "      <td>2.718282</td>\n",
       "    </tr>\n",
       "    <tr>\n",
       "      <th>395</th>\n",
       "      <td>1.000000</td>\n",
       "      <td>1.830538e+269</td>\n",
       "      <td>54.598150</td>\n",
       "      <td>2.718282</td>\n",
       "      <td>1.000000</td>\n",
       "      <td>1.000000</td>\n",
       "      <td>2.718282</td>\n",
       "    </tr>\n",
       "    <tr>\n",
       "      <th>396</th>\n",
       "      <td>1.000000</td>\n",
       "      <td>1.602913e+243</td>\n",
       "      <td>20.905243</td>\n",
       "      <td>1.000000</td>\n",
       "      <td>2.718282</td>\n",
       "      <td>1.000000</td>\n",
       "      <td>2.718282</td>\n",
       "    </tr>\n",
       "    <tr>\n",
       "      <th>397</th>\n",
       "      <td>1.000000</td>\n",
       "      <td>5.962957e+199</td>\n",
       "      <td>13.873770</td>\n",
       "      <td>2.718282</td>\n",
       "      <td>1.000000</td>\n",
       "      <td>1.000000</td>\n",
       "      <td>2.718282</td>\n",
       "    </tr>\n",
       "    <tr>\n",
       "      <th>398</th>\n",
       "      <td>1.000000</td>\n",
       "      <td>1.014232e+304</td>\n",
       "      <td>38.474666</td>\n",
       "      <td>2.718282</td>\n",
       "      <td>1.000000</td>\n",
       "      <td>1.000000</td>\n",
       "      <td>2.718282</td>\n",
       "    </tr>\n",
       "    <tr>\n",
       "      <th>399</th>\n",
       "      <td>1.000000</td>\n",
       "      <td>3.773020e+260</td>\n",
       "      <td>48.910887</td>\n",
       "      <td>1.000000</td>\n",
       "      <td>2.718282</td>\n",
       "      <td>1.000000</td>\n",
       "      <td>2.718282</td>\n",
       "    </tr>\n",
       "  </tbody>\n",
       "</table>\n",
       "<p>400 rows × 7 columns</p>\n",
       "</div>"
      ],
      "text/plain": [
       "        admit            gre        gpa  prestige_2.0  prestige_3.0  \\\n",
       "0    1.000000  1.076225e+165  36.966053      1.000000      2.718282   \n",
       "1    2.718282  4.308817e+286  39.251906      1.000000      2.718282   \n",
       "2    2.718282            inf  54.598150      1.000000      1.000000   \n",
       "3    2.718282  8.881134e+277  24.288427      1.000000      1.000000   \n",
       "4    1.000000  6.809741e+225  18.727630      1.000000      1.000000   \n",
       "5    2.718282            inf  20.085537      2.718282      1.000000   \n",
       "6    2.718282  1.602913e+243  19.687817      1.000000      1.000000   \n",
       "7    1.000000  5.221470e+173  21.758402      2.718282      1.000000   \n",
       "8    2.718282  3.303849e+234  29.665952      1.000000      2.718282   \n",
       "9    1.000000  1.014232e+304  50.400445      2.718282      1.000000   \n",
       "10   1.000000            inf  54.598150      1.000000      1.000000   \n",
       "11   1.000000  1.229057e+191  25.028120      1.000000      1.000000   \n",
       "12   2.718282            inf  54.598150      1.000000      1.000000   \n",
       "13   1.000000  1.014232e+304  21.758402      2.718282      1.000000   \n",
       "14   2.718282  1.014232e+304  54.598150      1.000000      1.000000   \n",
       "15   1.000000  2.893019e+208  31.186958      1.000000      2.718282   \n",
       "16   1.000000            inf  47.942386      1.000000      1.000000   \n",
       "17   1.000000  2.218265e+156  12.935817      1.000000      2.718282   \n",
       "18   1.000000            inf  42.521082      2.718282      1.000000   \n",
       "19   2.718282  3.303849e+234  45.150439      1.000000      1.000000   \n",
       "20   1.000000  1.403592e+217  23.807484      1.000000      2.718282   \n",
       "21   2.718282  4.308817e+286  37.712817      2.718282      1.000000   \n",
       "22   1.000000  3.773020e+260  16.776851      1.000000      1.000000   \n",
       "23   1.000000  2.090488e+295  24.288427      1.000000      1.000000   \n",
       "24   2.718282            inf  28.502734      2.718282      1.000000   \n",
       "25   2.718282            inf  38.861343      1.000000      1.000000   \n",
       "26   2.718282  1.830538e+269  36.966053      1.000000      1.000000   \n",
       "27   2.718282  6.809741e+225  42.097990      1.000000      1.000000   \n",
       "28   2.718282            inf  25.028120      2.718282      1.000000   \n",
       "29   1.000000  6.809741e+225  26.842864      1.000000      1.000000   \n",
       "..        ...            ...        ...           ...           ...   \n",
       "370  2.718282  3.303849e+234  43.380065      2.718282      1.000000   \n",
       "371  2.718282  2.090488e+295  42.948426      1.000000      2.718282   \n",
       "372  2.718282  2.090488e+295  11.245859      1.000000      1.000000   \n",
       "373  2.718282  1.830538e+269  29.078527      1.000000      1.000000   \n",
       "374  1.000000  1.602913e+243  43.816042      2.718282      1.000000   \n",
       "375  1.000000  1.602913e+243  32.785948      1.000000      1.000000   \n",
       "376  1.000000  1.830538e+269  37.712817      2.718282      1.000000   \n",
       "377  2.718282            inf  54.598150      2.718282      1.000000   \n",
       "378  1.000000  8.881134e+277  22.646380      1.000000      2.718282   \n",
       "379  1.000000  3.303849e+234  14.879732      2.718282      1.000000   \n",
       "380  1.000000  1.014232e+304  38.474666      2.718282      1.000000   \n",
       "381  2.718282  3.303849e+234  32.785948      2.718282      1.000000   \n",
       "382  1.000000  3.303849e+234  33.448268      2.718282      1.000000   \n",
       "383  1.000000  4.308817e+286  54.598150      1.000000      1.000000   \n",
       "384  2.718282  2.893019e+208  13.735724      2.718282      1.000000   \n",
       "385  1.000000  2.533275e+182  20.491292      1.000000      1.000000   \n",
       "386  2.718282            inf  47.465351      2.718282      1.000000   \n",
       "387  1.000000  7.776774e+251  28.789191      2.718282      1.000000   \n",
       "388  1.000000  8.881134e+277  23.807484      2.718282      1.000000   \n",
       "389  1.000000  8.881134e+277  33.448268      2.718282      1.000000   \n",
       "390  2.718282            inf  21.115344      2.718282      1.000000   \n",
       "391  2.718282  4.308817e+286  48.424215      2.718282      1.000000   \n",
       "392  2.718282  3.773020e+260  29.370771      1.000000      2.718282   \n",
       "393  2.718282  1.830538e+269  42.521082      2.718282      1.000000   \n",
       "394  2.718282  5.962957e+199  54.054889      1.000000      2.718282   \n",
       "395  1.000000  1.830538e+269  54.598150      2.718282      1.000000   \n",
       "396  1.000000  1.602913e+243  20.905243      1.000000      2.718282   \n",
       "397  1.000000  5.962957e+199  13.873770      2.718282      1.000000   \n",
       "398  1.000000  1.014232e+304  38.474666      2.718282      1.000000   \n",
       "399  1.000000  3.773020e+260  48.910887      1.000000      2.718282   \n",
       "\n",
       "     prestige_4.0  intercept  \n",
       "0        1.000000   2.718282  \n",
       "1        1.000000   2.718282  \n",
       "2        1.000000   2.718282  \n",
       "3        2.718282   2.718282  \n",
       "4        2.718282   2.718282  \n",
       "5        1.000000   2.718282  \n",
       "6        1.000000   2.718282  \n",
       "7        1.000000   2.718282  \n",
       "8        1.000000   2.718282  \n",
       "9        1.000000   2.718282  \n",
       "10       2.718282   2.718282  \n",
       "11       1.000000   2.718282  \n",
       "12       1.000000   2.718282  \n",
       "13       1.000000   2.718282  \n",
       "14       1.000000   2.718282  \n",
       "15       1.000000   2.718282  \n",
       "16       2.718282   2.718282  \n",
       "17       1.000000   2.718282  \n",
       "18       1.000000   2.718282  \n",
       "19       1.000000   2.718282  \n",
       "20       1.000000   2.718282  \n",
       "21       1.000000   2.718282  \n",
       "22       2.718282   2.718282  \n",
       "23       2.718282   2.718282  \n",
       "24       1.000000   2.718282  \n",
       "25       1.000000   2.718282  \n",
       "26       1.000000   2.718282  \n",
       "27       2.718282   2.718282  \n",
       "28       1.000000   2.718282  \n",
       "29       1.000000   2.718282  \n",
       "..            ...        ...  \n",
       "370      1.000000   2.718282  \n",
       "371      1.000000   2.718282  \n",
       "372      1.000000   2.718282  \n",
       "373      1.000000   2.718282  \n",
       "374      1.000000   2.718282  \n",
       "375      2.718282   2.718282  \n",
       "376      1.000000   2.718282  \n",
       "377      1.000000   2.718282  \n",
       "378      1.000000   2.718282  \n",
       "379      1.000000   2.718282  \n",
       "380      1.000000   2.718282  \n",
       "381      1.000000   2.718282  \n",
       "382      1.000000   2.718282  \n",
       "383      1.000000   2.718282  \n",
       "384      1.000000   2.718282  \n",
       "385      1.000000   2.718282  \n",
       "386      1.000000   2.718282  \n",
       "387      1.000000   2.718282  \n",
       "388      1.000000   2.718282  \n",
       "389      1.000000   2.718282  \n",
       "390      1.000000   2.718282  \n",
       "391      1.000000   2.718282  \n",
       "392      1.000000   2.718282  \n",
       "393      1.000000   2.718282  \n",
       "394      1.000000   2.718282  \n",
       "395      1.000000   2.718282  \n",
       "396      1.000000   2.718282  \n",
       "397      1.000000   2.718282  \n",
       "398      1.000000   2.718282  \n",
       "399      1.000000   2.718282  \n",
       "\n",
       "[400 rows x 7 columns]"
      ]
     },
     "execution_count": 104,
     "metadata": {},
     "output_type": "execute_result"
    }
   ],
   "source": [
    "np.exp(df2['prestige_2.0', 'prestige_3.0', ]\n",
    "\n",
    "# wasn't sure the type of hand calculation you wanted here\n",
    "\n"
   ]
  },
  {
   "cell_type": "markdown",
   "metadata": {},
   "source": [
    "#### 3.4 Write this finding in a sentenance: "
   ]
  },
  {
   "cell_type": "markdown",
   "metadata": {},
   "source": [
    "Answer: "
   ]
  },
  {
   "cell_type": "markdown",
   "metadata": {},
   "source": [
    "#### 3.5 Print the cross tab for prestige_4"
   ]
  },
  {
   "cell_type": "code",
   "execution_count": null,
   "metadata": {
    "collapsed": false
   },
   "outputs": [],
   "source": []
  },
  {
   "cell_type": "markdown",
   "metadata": {},
   "source": [
    "#### 3.6 Calculate the OR "
   ]
  },
  {
   "cell_type": "code",
   "execution_count": null,
   "metadata": {
    "collapsed": false
   },
   "outputs": [],
   "source": []
  },
  {
   "cell_type": "markdown",
   "metadata": {},
   "source": [
    "#### 3.7 Write this finding in a sentence"
   ]
  },
  {
   "cell_type": "markdown",
   "metadata": {},
   "source": [
    "Answer:"
   ]
  },
  {
   "cell_type": "markdown",
   "metadata": {},
   "source": [
    "## Part 4. Analysis"
   ]
  },
  {
   "cell_type": "code",
   "execution_count": 147,
   "metadata": {
    "collapsed": false
   },
   "outputs": [
    {
     "name": "stdout",
     "output_type": "stream",
     "text": [
      "   admit  gre   gpa  prestige_2  prestige_3  prestige_4\n",
      "0      0  380  3.61           0           0           0\n",
      "1      1  660  3.67           1           0           0\n",
      "2      1  800  4.00           0           1           0\n",
      "3      1  640  3.19           0           0           1\n",
      "4      0  520  2.93           0           0           0\n"
     ]
    }
   ],
   "source": [
    "# create a clean data frame for the regression\n",
    "cols_to_keep = ['admit', 'gre', 'gpa']\n",
    "data = df[cols_to_keep].join(dummy_ranks.ix[:, 'prestige_2':])\n",
    "print data.head()\n"
   ]
  },
  {
   "cell_type": "markdown",
   "metadata": {},
   "source": [
    "We're going to add a constant term for our Logistic Regression. The statsmodels function we're going to be using requires that intercepts/constants are specified explicitly."
   ]
  },
  {
   "cell_type": "code",
   "execution_count": 148,
   "metadata": {
    "collapsed": true
   },
   "outputs": [],
   "source": [
    "# manually add the intercept\n",
    "data['intercept'] = 1.0"
   ]
  },
  {
   "cell_type": "markdown",
   "metadata": {},
   "source": [
    "#### 4.1 Set the covariates to a variable called train_cols"
   ]
  },
  {
   "cell_type": "code",
   "execution_count": 149,
   "metadata": {
    "collapsed": false
   },
   "outputs": [],
   "source": [
    "train_cols = data.columns[1:] \n"
   ]
  },
  {
   "cell_type": "markdown",
   "metadata": {},
   "source": [
    "#### 4.2 Fit the model"
   ]
  },
  {
   "cell_type": "code",
   "execution_count": 150,
   "metadata": {
    "collapsed": false
   },
   "outputs": [
    {
     "name": "stdout",
     "output_type": "stream",
     "text": [
      "Optimization terminated successfully.\n",
      "         Current function value: 0.597847\n",
      "         Iterations 5\n"
     ]
    }
   ],
   "source": [
    "logit = sm.Logit(data['admit'], data[train_cols]) \n",
    "result = logit.fit() \n"
   ]
  },
  {
   "cell_type": "markdown",
   "metadata": {},
   "source": [
    "#### 4.3 Print the summary results"
   ]
  },
  {
   "cell_type": "code",
   "execution_count": 151,
   "metadata": {
    "collapsed": false
   },
   "outputs": [
    {
     "name": "stdout",
     "output_type": "stream",
     "text": [
      "                           Logit Regression Results                           \n",
      "==============================================================================\n",
      "Dep. Variable:                  admit   No. Observations:                  397\n",
      "Model:                          Logit   Df Residuals:                      391\n",
      "Method:                           MLE   Df Model:                            5\n",
      "Date:                Thu, 24 Mar 2016   Pseudo R-squ.:                 0.04326\n",
      "Time:                        18:10:48   Log-Likelihood:                -237.35\n",
      "converged:                       True   LL-Null:                       -248.08\n",
      "                                        LLR p-value:                 0.0006619\n",
      "==============================================================================\n",
      "                 coef    std err          z      P>|z|      [95.0% Conf. Int.]\n",
      "------------------------------------------------------------------------------\n",
      "gre            0.0025      0.001      2.379      0.017         0.000     0.005\n",
      "gpa            0.7082      0.323      2.192      0.028         0.075     1.341\n",
      "prestige_2     0.3664      0.320      1.144      0.253        -0.261     0.994\n",
      "prestige_3     0.4412      0.317      1.390      0.164        -0.181     1.063\n",
      "prestige_4     0.0871      0.328      0.265      0.791        -0.556     0.730\n",
      "intercept     -4.9304      1.092     -4.515      0.000        -7.071    -2.790\n",
      "==============================================================================\n",
      "                   0         1\n",
      "gre         0.000446  0.004618\n",
      "gpa         0.075048  1.341310\n",
      "prestige_2 -0.261237  0.993955\n",
      "prestige_3 -0.180807  1.063228\n",
      "prestige_4 -0.556165  0.730280\n",
      "intercept  -7.070558 -2.790324\n"
     ]
    }
   ],
   "source": [
    "print result.summary()\n",
    "print result.conf_int()"
   ]
  },
  {
   "cell_type": "markdown",
   "metadata": {},
   "source": [
    "#### 4.4 Calculate the odds ratios of the coeffiencents and their 95% CI intervals\n",
    "\n",
    "hint 1: np.exp(X)\n",
    "\n",
    "hint 2: conf['OR'] = params\n",
    "        \n",
    "           conf.columns = ['2.5%', '97.5%', 'OR']"
   ]
  },
  {
   "cell_type": "code",
   "execution_count": 152,
   "metadata": {
    "collapsed": false
   },
   "outputs": [
    {
     "name": "stdout",
     "output_type": "stream",
     "text": [
      "                   0         1\n",
      "gre         0.000446  0.004618\n",
      "gpa         0.075048  1.341310\n",
      "prestige_2 -0.261237  0.993955\n",
      "prestige_3 -0.180807  1.063228\n",
      "prestige_4 -0.556165  0.730280\n",
      "intercept  -7.070558 -2.790324\n"
     ]
    }
   ],
   "source": [
    "print result.conf_int()"
   ]
  },
  {
   "cell_type": "code",
   "execution_count": 153,
   "metadata": {
    "collapsed": false
   },
   "outputs": [
    {
     "name": "stdout",
     "output_type": "stream",
     "text": [
      "gre           1.002535\n",
      "gpa           2.030291\n",
      "prestige_2    1.442473\n",
      "prestige_3    1.554588\n",
      "prestige_4    1.090959\n",
      "intercept     0.007223\n",
      "dtype: float64\n",
      "                2.5%     97.5%        OR\n",
      "gre         1.000446  1.004629  1.002535\n",
      "gpa         1.077936  3.824050  2.030291\n",
      "prestige_2  0.770098  2.701901  1.442473\n",
      "prestige_3  0.834597  2.895704  1.554588\n",
      "prestige_4  0.573404  2.075661  1.090959\n",
      "intercept   0.000850  0.061401  0.007223\n"
     ]
    }
   ],
   "source": [
    "print np.exp(result.params)\n",
    "params = result.params \n",
    "conf = result.conf_int() \n",
    "conf['OR'] = params \n",
    "conf.columns = ['2.5%', '97.5%', 'OR'] \n",
    "print np.exp(conf) \n"
   ]
  },
  {
   "cell_type": "markdown",
   "metadata": {},
   "source": [
    "#### 4.5 Interpret the OR of Prestige_2"
   ]
  },
  {
   "cell_type": "markdown",
   "metadata": {},
   "source": [
    "Answer: if you attend a school listed under Prestige 2 your odds of admittance will be affected by 0.506548 (expect a decrease of .50) --so every 1 unit, which in this case is a binary Y/N = 1/0"
   ]
  },
  {
   "cell_type": "markdown",
   "metadata": {},
   "source": [
    "#### 4.6 Interpret the OR of GPA"
   ]
  },
  {
   "cell_type": "markdown",
   "metadata": {},
   "source": [
    "Answer: For every 1 unit increase in GPA odds of admittance increase 2.18 so upping your GPA a whole point doubles your odds of getting in"
   ]
  },
  {
   "cell_type": "markdown",
   "metadata": {},
   "source": [
    "## Part 5: Predicted probablities\n"
   ]
  },
  {
   "cell_type": "markdown",
   "metadata": {},
   "source": [
    "As a way of evaluating our classifier, we're going to recreate the dataset with every logical combination of input values. This will allow us to see how the predicted probability of admission increases/decreases across different variables. First we're going to generate the combinations using a helper function called cartesian (above).\n",
    "\n",
    "We're going to use np.linspace to create a range of values for \"gre\" and \"gpa\". This creates a range of linearly spaced values from a specified min and maximum value--in our case just the min/max observed values."
   ]
  },
  {
   "cell_type": "code",
   "execution_count": 154,
   "metadata": {
    "collapsed": true
   },
   "outputs": [],
   "source": [
    "def cartesian(arrays, out=None):\n",
    "    \"\"\"\n",
    "    Generate a cartesian product of input arrays.\n",
    "    Parameters\n",
    "    ----------\n",
    "    arrays : list of array-like\n",
    "        1-D arrays to form the cartesian product of.\n",
    "    out : ndarray\n",
    "        Array to place the cartesian product in.\n",
    "    Returns\n",
    "    -------\n",
    "    out : ndarray\n",
    "        2-D array of shape (M, len(arrays)) containing cartesian products\n",
    "        formed of input arrays.\n",
    "    Examples\n",
    "    --------\n",
    "    >>> cartesian(([1, 2, 3], [4, 5], [6, 7]))\n",
    "    array([[1, 4, 6],\n",
    "           [1, 4, 7],\n",
    "           [1, 5, 6],\n",
    "           [1, 5, 7],\n",
    "           [2, 4, 6],\n",
    "           [2, 4, 7],\n",
    "           [2, 5, 6],\n",
    "           [2, 5, 7],\n",
    "           [3, 4, 6],\n",
    "           [3, 4, 7],\n",
    "           [3, 5, 6],\n",
    "           [3, 5, 7]])\n",
    "    \"\"\"\n",
    "\n",
    "    arrays = [np.asarray(x) for x in arrays]\n",
    "    dtype = arrays[0].dtype\n",
    "\n",
    "    n = np.prod([x.size for x in arrays])\n",
    "    if out is None:\n",
    "        out = np.zeros([n, len(arrays)], dtype=dtype)\n",
    "\n",
    "    m = n / arrays[0].size\n",
    "    out[:,0] = np.repeat(arrays[0], m)\n",
    "    if arrays[1:]:\n",
    "        cartesian(arrays[1:], out=out[0:m,1:])\n",
    "        for j in xrange(1, arrays[0].size):\n",
    "            out[j*m:(j+1)*m,1:] = out[0:m,1:]\n",
    "    return out"
   ]
  },
  {
   "cell_type": "code",
   "execution_count": 155,
   "metadata": {
    "collapsed": false
   },
   "outputs": [
    {
     "name": "stdout",
     "output_type": "stream",
     "text": [
      "[ 220.          284.44444444  348.88888889  413.33333333  477.77777778\n",
      "  542.22222222  606.66666667  671.11111111  735.55555556  800.        ]\n",
      "[ 2.26        2.45333333  2.64666667  2.84        3.03333333  3.22666667\n",
      "  3.42        3.61333333  3.80666667  4.        ]\n"
     ]
    }
   ],
   "source": [
    "# instead of generating all possible values of GRE and GPA, we're going\n",
    "# to use an evenly spaced range of 10 values from the min to the max \n",
    "gres = np.linspace(data['gre'].min(), data['gre'].max(), 10)\n",
    "print gres\n",
    "# array([ 220.        ,  284.44444444,  348.88888889,  413.33333333,\n",
    "#         477.77777778,  542.22222222,  606.66666667,  671.11111111,\n",
    "#         735.55555556,  800.        ])\n",
    "gpas = np.linspace(data['gpa'].min(), data['gpa'].max(), 10)\n",
    "print gpas\n",
    "# array([ 2.26      ,  2.45333333,  2.64666667,  2.84      ,  3.03333333,\n",
    "#         3.22666667,  3.42      ,  3.61333333,  3.80666667,  4.        ])\n",
    "\n",
    "\n",
    "# enumerate all possibilities\n",
    "combos = pd.DataFrame(cartesian([gres, gpas, [1, 2, 3, 4], [1.]]))"
   ]
  },
  {
   "cell_type": "markdown",
   "metadata": {},
   "source": [
    "#### 5.1 Recreate the dummy variables"
   ]
  },
  {
   "cell_type": "code",
   "execution_count": 156,
   "metadata": {
    "collapsed": false
   },
   "outputs": [],
   "source": [
    "# recreate the dummy variables\n",
    "\n",
    "# keep only what we need for making predictions\n",
    "\n",
    "combos.columns = ['gre', 'gpa', 'prestige', 'intercept'] \n",
    "dummy_ranks = pd.get_dummies(combos['prestige'], prefix='prestige') \n",
    "dummy_ranks.columns = ['prestige_1', 'prestige_2', 'prestige_3', 'prestige_4'] \n",
    "cols_to_keep = ['gre', 'gpa', 'prestige', 'intercept'] \n",
    "combos = combos[cols_to_keep].join(dummy_ranks.ix[:, 'prestige_2':]) \n"
   ]
  },
  {
   "cell_type": "markdown",
   "metadata": {},
   "source": [
    "#### 5.2 Make predictions on the enumerated dataset"
   ]
  },
  {
   "cell_type": "code",
   "execution_count": 159,
   "metadata": {
    "collapsed": false
   },
   "outputs": [
    {
     "name": "stdout",
     "output_type": "stream",
     "text": [
      "     gre       gpa  prestige  intercept  prestige_2  prestige_3  prestige_4  \\\n",
      "395  800  3.806667         4          1           0           0           1   \n",
      "396  800  4.000000         1          1           0           0           0   \n",
      "397  800  4.000000         2          1           1           0           0   \n",
      "398  800  4.000000         3          1           0           1           0   \n",
      "399  800  4.000000         4          1           0           0           1   \n",
      "\n",
      "     admission  \n",
      "395   0.469553  \n",
      "396   0.481988  \n",
      "397   0.573043  \n",
      "398   0.591249  \n",
      "399   0.503744  \n"
     ]
    }
   ],
   "source": [
    "combos['admission'] = result.predict(combos[train_cols])\n",
    "print combos.tail()"
   ]
  },
  {
   "cell_type": "markdown",
   "metadata": {},
   "source": [
    "#### 5.3 Interpret findings for the last 4 observations"
   ]
  },
  {
   "cell_type": "markdown",
   "metadata": {},
   "source": [
    "Answer: The last 4 observations all had 800 GRE and 4.0 GPA so the variance was due to school prestige. The relationships make sense until the last person. So as prestige increases so do the odds of admission .48, .57, .59 but the fourth person has .50. There may be a confounding variable between prestige 4 and admission."
   ]
  },
  {
   "cell_type": "markdown",
   "metadata": {},
   "source": [
    "## Bonus\n",
    "\n",
    "Plot the probability of being admitted into graduate school, stratified by GPA and GRE score."
   ]
  },
  {
   "cell_type": "code",
   "execution_count": 172,
   "metadata": {
    "collapsed": false
   },
   "outputs": [
    {
     "data": {
      "image/png": "[encoded data removed]",
      "text/plain": [
       "<matplotlib.figure.Figure at 0xd230ef0>"
      ]
     },
     "metadata": {},
     "output_type": "display_data"
    },
    {
     "data": {
      "image/png": "[encoded data removed]",
      "text/plain": [
       "<matplotlib.figure.Figure at 0xd589c88>"
      ]
     },
     "metadata": {},
     "output_type": "display_data"
    }
   ],
   "source": [
    "def isolate_and_plot(variable): \n",
    "\n",
    "    grouped = pd.pivot_table(combos, values=['admission'], index=[variable, 'prestige'], \n",
    "                             aggfunc=np.mean) \n",
    "      \n",
    "\n",
    "    colors = 'rbygrbyg' \n",
    "    for col in combos.prestige.unique():\n",
    "        plt_data = grouped.ix[grouped.index.get_level_values(1)==col] \n",
    "        pl.plot(plt_data.index.get_level_values(0), plt_data['admission'], color=colors[int(col)]) \n",
    " \n",
    " \n",
    "    pl.xlabel(variable) \n",
    "    pl.ylabel(\"P(admit=1)\") \n",
    "    pl.legend(['Unranked College', 'Top 500', 'Top 50', 'Ivy League'], loc='upper left', title='Prestige') \n",
    "    pl.title(\"Prob(admit=1) isolating \" + variable + \" and presitge\") \n",
    "    pl.show() \n",
    "\n",
    "isolate_and_plot('gre') \n",
    "isolate_and_plot('gpa') \n",
    "\n"
   ]
  },
  {
   "cell_type": "code",
   "execution_count": null,
   "metadata": {
    "collapsed": true
   },
   "outputs": [],
   "source": []
  }
 ],
 "metadata": {
  "kernelspec": {
   "display_name": "Python 2",
   "language": "python",
   "name": "python2"
  },
  "language_info": {
   "codemirror_mode": {
    "name": "ipython",
    "version": 2
   },
   "file_extension": ".py",
   "mimetype": "text/x-python",
   "name": "python",
   "nbconvert_exporter": "python",
   "pygments_lexer": "ipython2",
   "version": "2.7.11"
  }
 },
 "nbformat": 4,
 "nbformat_minor": 0
}
